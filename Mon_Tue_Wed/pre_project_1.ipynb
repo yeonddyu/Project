{
 "cells": [
  {
   "cell_type": "markdown",
   "id": "8309f987",
   "metadata": {},
   "source": [
    "# 데이터 구성 및 문제 정의"
   ]
  },
  {
   "cell_type": "markdown",
   "id": "df664e4d",
   "metadata": {},
   "source": [
    "## 데이터 정의"
   ]
  },
  {
   "cell_type": "markdown",
   "id": "28bbd135",
   "metadata": {},
   "source": [
    "##핀성형기 장비 데이터##\n",
    "- 설비이름_START: 설비이름/가동 (단위 : ON/OFF, ON=1, OFF=0) (Type: int64)\n",
    "- 설비이름_STOP: 설비이름/정지 (단위 : ON/OFF, ON=1, OFF=0) (Type: int64)\n",
    "- 설비이름_CNT: 설비이름/생산수량 (단위: EA) (Type: float64)\n",
    "- 설비이름_VOLT_N상: 설비이름/N상 전압 (단위: V) (Type: float64)\n",
    "- 설비이름_VOLT_AVG: 설비이름/평균 전압 (단위 : V) (Type: float64)\n",
    "- 설비이름_CURR_N상: 설비이름/N상 전류 (단위 : A) (Type: float64)\n",
    "- 설비이름_CURR_AVG: 설비이름/평균 전류 (단위 : A) (Type: float64)\n",
    "- 설비이름_KW: 설비이름/유효전력 (단위 : KW) (Type: float64)\n",
    "- 설비이름_KVAR: 설비이름/무효전력 (단위 : KVAR) (Type: float64)\n",
    "- 설비이름_HZ: 설비이름/주파수 (단위 : HZ) (Type: float64)\n",
    "- 설비이름_PWR_FACTOR: 설비이름/역률 (단위 : %) (Type: float64)\n",
    "- 설비이름_KWH: 설비이름/유효전력량 (단위 : KWH) (Type: float64)\n",
    "- 설비이름_KVARH: 설비이름/무효전력량 (단위 : KVARH) (Type: float64)  \n",
    "\n",
    "=> 본 데이터는 핀성형기 장비 실제 데이터를 기반으로 만들어진 샘플용 데이터"
   ]
  },
  {
   "cell_type": "markdown",
   "id": "9e048b6d",
   "metadata": {},
   "source": [
    "## 분석 목적\n",
    ": 핀성형기 가동정보 데이터를 바탕으로 설치된 센서 데이터를 확인하여 핀성형기 START/STOP의 구분점을 찾는 것을 목표로 한다."
   ]
  },
  {
   "cell_type": "markdown",
   "id": "75548ffe",
   "metadata": {},
   "source": [
    "# 라이브러리 불러오기"
   ]
  },
  {
   "cell_type": "markdown",
   "id": "a6a01bee",
   "metadata": {},
   "source": [
    "## 라이브러리"
   ]
  },
  {
   "cell_type": "code",
   "execution_count": 1,
   "id": "f74a8730",
   "metadata": {
    "scrolled": true
   },
   "outputs": [],
   "source": [
    "## 데이터 전처리\n",
    "import numpy as np\n",
    "import pandas as pd\n",
    "import sys\n",
    "import pickle\n",
    "import itertools\n",
    "\n",
    "## 데이터 시각화\n",
    "import seaborn as sns\n",
    "import matplotlib\n",
    "import matplotlib.pyplot as plt\n",
    "from matplotlib import font_manager, rc\n",
    "\n",
    "## 모델링\n",
    "import sklearn\n",
    "from sklearn import metrics\n",
    "from sklearn.metrics import accuracy_score, precision_score, recall_score, f1_score\n",
    "from sklearn.metrics import classification_report, confusion_matrix\n",
    "from sklearn.tree import DecisionTreeClassifier\n",
    "from sklearn.ensemble import RandomForestClassifier\n",
    "from sklearn.linear_model import LogisticRegression\n",
    "from sklearn.ensemble import RandomForestClassifier\n",
    "from sklearn.preprocessing import MinMaxScaler\n",
    "from sklearn.preprocessing import StandardScaler\n",
    "from sklearn.model_selection import train_test_split\n",
    "from xgboost import XGBClassifier\n",
    "import joblib\n",
    "\n",
    "import warnings\n",
    "np.set_printoptions(threshold=sys.maxsize)\n",
    "warnings.filterwarnings(action='ignore')"
   ]
  },
  {
   "cell_type": "markdown",
   "id": "66426506",
   "metadata": {},
   "source": [
    "## 개발환경 (Version)"
   ]
  },
  {
   "cell_type": "code",
   "execution_count": 2,
   "id": "97689425",
   "metadata": {},
   "outputs": [
    {
     "name": "stdout",
     "output_type": "stream",
     "text": [
      "Python 버전: 3.11.5\n",
      "matplotlib 버전: 3.8.2\n",
      "seaborn 버전: 0.13.2\n",
      "scikit-learn 버전: 1.2.2\n"
     ]
    }
   ],
   "source": [
    "print('Python 버전: 3.11.5')    # 터미널에서 확인\n",
    "print('matplotlib 버전:', matplotlib.__version__)\n",
    "print('seaborn 버전:', sns.__version__)\n",
    "print('scikit-learn 버전:', sklearn.__version__)"
   ]
  },
  {
   "cell_type": "markdown",
   "id": "3dd8810b",
   "metadata": {},
   "source": [
    "# 데이터셋 불러오기\n",
    ": 플라스틱의 사출 성형에 사용되는 기계(핀성형기)의 데이터"
   ]
  },
  {
   "cell_type": "markdown",
   "id": "89486f70",
   "metadata": {},
   "source": [
    "##원본 데이터 설명##\n",
    "- MAKING1_START: 가동 (단위 : ON/OFF, ON=1, OFF=0) (Type: int64)\n",
    "- MAKING1_STOP: 정지 (단위 : ON/OFF, ON=1, OFF=0) (Type: int64)\n",
    "- MAKING1_CNT: 생산수량 (단위: EA) (Type: float64)\n",
    "- MAKING1_VOLT_N상: N상 전압 (단위: V) (Type: float64)\n",
    "- MAKING1_VOLT_AVG: 평균 전압 (단위 : V) (Type: float64)\n",
    "- MAKING1_CURR_N상: N상 전류 (단위 : A) (Type: float64)\n",
    "- MAKING1_CURR_AVG: 평균 전류 (단위 : A) (Type: float64)\n",
    "- MAKING1_KW: 유효전력 (단위 : KW) (Type: float64)\n",
    "- MAKING1_KVAR: 무효전력 (단위 : KVAR) (Type: float64)\n",
    "- MAKING1_HZ: 주파수 (단위 : HZ) (Type: float64)\n",
    "- MAKING1_PWR_FACTOR: 역률 (단위 : %) (Type: float64)\n",
    "- MAKING1_KWH: 유효전력량 (단위 : KWH) (Type: float64)\n",
    "- MAKING1_KVARH: 무효전력량 (단위 : KVARH) (Type: float64)  "
   ]
  },
  {
   "cell_type": "code",
   "execution_count": 3,
   "id": "88e81105",
   "metadata": {},
   "outputs": [
    {
     "data": {
      "text/html": [
       "<div>\n",
       "<style scoped>\n",
       "    .dataframe tbody tr th:only-of-type {\n",
       "        vertical-align: middle;\n",
       "    }\n",
       "\n",
       "    .dataframe tbody tr th {\n",
       "        vertical-align: top;\n",
       "    }\n",
       "\n",
       "    .dataframe thead th {\n",
       "        text-align: right;\n",
       "    }\n",
       "</style>\n",
       "<table border=\"1\" class=\"dataframe\">\n",
       "  <thead>\n",
       "    <tr style=\"text-align: right;\">\n",
       "      <th></th>\n",
       "      <th>MAKING1_START</th>\n",
       "      <th>MAKING1_STOP</th>\n",
       "      <th>MAKING1_CNT</th>\n",
       "      <th>MAKING1_VOLT_A</th>\n",
       "      <th>MAKING1_VOLT_B</th>\n",
       "      <th>MAKING1_VOLT_C</th>\n",
       "      <th>MAKING1_VOLT_AVG</th>\n",
       "      <th>MAKING1_CURR_A</th>\n",
       "      <th>MAKING1_CURR_B</th>\n",
       "      <th>MAKING1_CURR_C</th>\n",
       "      <th>MAKING1_CURR_AVG</th>\n",
       "      <th>MAKING1_KW</th>\n",
       "      <th>MAKING1_KVAR</th>\n",
       "      <th>MAKING1_HZ</th>\n",
       "      <th>MAKING1_PWR_FACTOR</th>\n",
       "      <th>MAKING1_KWH</th>\n",
       "      <th>MAKING1_KVARH</th>\n",
       "    </tr>\n",
       "  </thead>\n",
       "  <tbody>\n",
       "    <tr>\n",
       "      <th>0</th>\n",
       "      <td>1</td>\n",
       "      <td>0</td>\n",
       "      <td>19978.679427</td>\n",
       "      <td>118.034768</td>\n",
       "      <td>119.514007</td>\n",
       "      <td>118.025641</td>\n",
       "      <td>118.292214</td>\n",
       "      <td>0.770411</td>\n",
       "      <td>0.155281</td>\n",
       "      <td>0.735165</td>\n",
       "      <td>0.545518</td>\n",
       "      <td>0.175901</td>\n",
       "      <td>0.043439</td>\n",
       "      <td>32.991709</td>\n",
       "      <td>34.695346</td>\n",
       "      <td>899.848871</td>\n",
       "      <td>428.177401</td>\n",
       "    </tr>\n",
       "    <tr>\n",
       "      <th>1</th>\n",
       "      <td>1</td>\n",
       "      <td>0</td>\n",
       "      <td>19978.679427</td>\n",
       "      <td>118.034768</td>\n",
       "      <td>119.514007</td>\n",
       "      <td>118.025641</td>\n",
       "      <td>118.292214</td>\n",
       "      <td>0.770411</td>\n",
       "      <td>0.155281</td>\n",
       "      <td>0.735165</td>\n",
       "      <td>0.545518</td>\n",
       "      <td>0.175901</td>\n",
       "      <td>0.043439</td>\n",
       "      <td>32.991709</td>\n",
       "      <td>34.695346</td>\n",
       "      <td>899.848871</td>\n",
       "      <td>428.177401</td>\n",
       "    </tr>\n",
       "    <tr>\n",
       "      <th>2</th>\n",
       "      <td>1</td>\n",
       "      <td>0</td>\n",
       "      <td>19978.679427</td>\n",
       "      <td>118.082551</td>\n",
       "      <td>119.533032</td>\n",
       "      <td>118.058522</td>\n",
       "      <td>118.654133</td>\n",
       "      <td>0.759469</td>\n",
       "      <td>0.142909</td>\n",
       "      <td>0.742588</td>\n",
       "      <td>0.545518</td>\n",
       "      <td>0.175901</td>\n",
       "      <td>0.043439</td>\n",
       "      <td>32.991709</td>\n",
       "      <td>34.441750</td>\n",
       "      <td>899.848871</td>\n",
       "      <td>428.177401</td>\n",
       "    </tr>\n",
       "    <tr>\n",
       "      <th>3</th>\n",
       "      <td>1</td>\n",
       "      <td>0</td>\n",
       "      <td>19978.679427</td>\n",
       "      <td>117.910060</td>\n",
       "      <td>119.353007</td>\n",
       "      <td>117.878608</td>\n",
       "      <td>118.513753</td>\n",
       "      <td>0.756335</td>\n",
       "      <td>0.151377</td>\n",
       "      <td>0.738135</td>\n",
       "      <td>0.547662</td>\n",
       "      <td>0.175901</td>\n",
       "      <td>0.043439</td>\n",
       "      <td>32.991709</td>\n",
       "      <td>34.712777</td>\n",
       "      <td>899.848871</td>\n",
       "      <td>428.177401</td>\n",
       "    </tr>\n",
       "    <tr>\n",
       "      <th>4</th>\n",
       "      <td>1</td>\n",
       "      <td>0</td>\n",
       "      <td>19978.679427</td>\n",
       "      <td>117.858483</td>\n",
       "      <td>119.786958</td>\n",
       "      <td>117.258748</td>\n",
       "      <td>118.507594</td>\n",
       "      <td>0.767937</td>\n",
       "      <td>0.165618</td>\n",
       "      <td>0.739179</td>\n",
       "      <td>0.554151</td>\n",
       "      <td>0.175901</td>\n",
       "      <td>0.043439</td>\n",
       "      <td>32.991709</td>\n",
       "      <td>34.454947</td>\n",
       "      <td>899.848871</td>\n",
       "      <td>428.177401</td>\n",
       "    </tr>\n",
       "  </tbody>\n",
       "</table>\n",
       "</div>"
      ],
      "text/plain": [
       "   MAKING1_START  MAKING1_STOP   MAKING1_CNT  MAKING1_VOLT_A  MAKING1_VOLT_B  \\\n",
       "0              1             0  19978.679427      118.034768      119.514007   \n",
       "1              1             0  19978.679427      118.034768      119.514007   \n",
       "2              1             0  19978.679427      118.082551      119.533032   \n",
       "3              1             0  19978.679427      117.910060      119.353007   \n",
       "4              1             0  19978.679427      117.858483      119.786958   \n",
       "\n",
       "   MAKING1_VOLT_C  MAKING1_VOLT_AVG  MAKING1_CURR_A  MAKING1_CURR_B  \\\n",
       "0      118.025641        118.292214        0.770411        0.155281   \n",
       "1      118.025641        118.292214        0.770411        0.155281   \n",
       "2      118.058522        118.654133        0.759469        0.142909   \n",
       "3      117.878608        118.513753        0.756335        0.151377   \n",
       "4      117.258748        118.507594        0.767937        0.165618   \n",
       "\n",
       "   MAKING1_CURR_C  MAKING1_CURR_AVG  MAKING1_KW  MAKING1_KVAR  MAKING1_HZ  \\\n",
       "0        0.735165          0.545518    0.175901      0.043439   32.991709   \n",
       "1        0.735165          0.545518    0.175901      0.043439   32.991709   \n",
       "2        0.742588          0.545518    0.175901      0.043439   32.991709   \n",
       "3        0.738135          0.547662    0.175901      0.043439   32.991709   \n",
       "4        0.739179          0.554151    0.175901      0.043439   32.991709   \n",
       "\n",
       "   MAKING1_PWR_FACTOR  MAKING1_KWH  MAKING1_KVARH  \n",
       "0           34.695346   899.848871     428.177401  \n",
       "1           34.695346   899.848871     428.177401  \n",
       "2           34.441750   899.848871     428.177401  \n",
       "3           34.712777   899.848871     428.177401  \n",
       "4           34.454947   899.848871     428.177401  "
      ]
     },
     "execution_count": 3,
     "metadata": {},
     "output_type": "execute_result"
    }
   ],
   "source": [
    "data = pd.read_csv('./datasets/pre_project_1/핀성형기_가동정보_데이터.csv', index_col=0)\n",
    "data.head()"
   ]
  },
  {
   "cell_type": "code",
   "execution_count": 4,
   "id": "7fa9bc51",
   "metadata": {
    "scrolled": true
   },
   "outputs": [
    {
     "data": {
      "text/html": [
       "<div>\n",
       "<style scoped>\n",
       "    .dataframe tbody tr th:only-of-type {\n",
       "        vertical-align: middle;\n",
       "    }\n",
       "\n",
       "    .dataframe tbody tr th {\n",
       "        vertical-align: top;\n",
       "    }\n",
       "\n",
       "    .dataframe thead th {\n",
       "        text-align: right;\n",
       "    }\n",
       "</style>\n",
       "<table border=\"1\" class=\"dataframe\">\n",
       "  <thead>\n",
       "    <tr style=\"text-align: right;\">\n",
       "      <th></th>\n",
       "      <th>MAKING1_START</th>\n",
       "      <th>MAKING1_STOP</th>\n",
       "      <th>MAKING1_CNT</th>\n",
       "      <th>MAKING1_VOLT_A</th>\n",
       "      <th>MAKING1_VOLT_B</th>\n",
       "      <th>MAKING1_VOLT_C</th>\n",
       "      <th>MAKING1_VOLT_AVG</th>\n",
       "      <th>MAKING1_CURR_A</th>\n",
       "      <th>MAKING1_CURR_B</th>\n",
       "      <th>MAKING1_CURR_C</th>\n",
       "      <th>MAKING1_CURR_AVG</th>\n",
       "      <th>MAKING1_KW</th>\n",
       "      <th>MAKING1_KVAR</th>\n",
       "      <th>MAKING1_HZ</th>\n",
       "      <th>MAKING1_PWR_FACTOR</th>\n",
       "      <th>MAKING1_KWH</th>\n",
       "      <th>MAKING1_KVARH</th>\n",
       "    </tr>\n",
       "  </thead>\n",
       "  <tbody>\n",
       "    <tr>\n",
       "      <th>count</th>\n",
       "      <td>158400.000000</td>\n",
       "      <td>158400.000000</td>\n",
       "      <td>158400.000000</td>\n",
       "      <td>158400.000000</td>\n",
       "      <td>158400.000000</td>\n",
       "      <td>158400.000000</td>\n",
       "      <td>158400.000000</td>\n",
       "      <td>158400.000000</td>\n",
       "      <td>158400.000000</td>\n",
       "      <td>158400.000000</td>\n",
       "      <td>158400.000000</td>\n",
       "      <td>158400.000000</td>\n",
       "      <td>158400.000000</td>\n",
       "      <td>158400.000000</td>\n",
       "      <td>158400.000000</td>\n",
       "      <td>158400.000000</td>\n",
       "      <td>158400.000000</td>\n",
       "    </tr>\n",
       "    <tr>\n",
       "      <th>mean</th>\n",
       "      <td>0.522418</td>\n",
       "      <td>0.427115</td>\n",
       "      <td>27598.551275</td>\n",
       "      <td>118.633787</td>\n",
       "      <td>119.913057</td>\n",
       "      <td>118.359518</td>\n",
       "      <td>118.962659</td>\n",
       "      <td>1.209694</td>\n",
       "      <td>0.829972</td>\n",
       "      <td>1.607035</td>\n",
       "      <td>1.212342</td>\n",
       "      <td>0.352885</td>\n",
       "      <td>0.168920</td>\n",
       "      <td>32.955868</td>\n",
       "      <td>34.132494</td>\n",
       "      <td>915.356262</td>\n",
       "      <td>435.934295</td>\n",
       "    </tr>\n",
       "    <tr>\n",
       "      <th>std</th>\n",
       "      <td>0.499499</td>\n",
       "      <td>0.494661</td>\n",
       "      <td>5918.951310</td>\n",
       "      <td>1.249954</td>\n",
       "      <td>1.169580</td>\n",
       "      <td>1.299195</td>\n",
       "      <td>1.234392</td>\n",
       "      <td>0.657308</td>\n",
       "      <td>0.833680</td>\n",
       "      <td>1.057567</td>\n",
       "      <td>0.842028</td>\n",
       "      <td>0.241113</td>\n",
       "      <td>0.137532</td>\n",
       "      <td>0.067333</td>\n",
       "      <td>5.028799</td>\n",
       "      <td>10.068855</td>\n",
       "      <td>5.027104</td>\n",
       "    </tr>\n",
       "    <tr>\n",
       "      <th>min</th>\n",
       "      <td>0.000000</td>\n",
       "      <td>0.000000</td>\n",
       "      <td>19978.679427</td>\n",
       "      <td>115.063150</td>\n",
       "      <td>116.570706</td>\n",
       "      <td>114.479417</td>\n",
       "      <td>115.487863</td>\n",
       "      <td>0.355046</td>\n",
       "      <td>0.003464</td>\n",
       "      <td>0.411792</td>\n",
       "      <td>0.281364</td>\n",
       "      <td>0.068953</td>\n",
       "      <td>0.027603</td>\n",
       "      <td>32.854244</td>\n",
       "      <td>21.765785</td>\n",
       "      <td>899.848871</td>\n",
       "      <td>428.177401</td>\n",
       "    </tr>\n",
       "    <tr>\n",
       "      <th>25%</th>\n",
       "      <td>0.000000</td>\n",
       "      <td>0.000000</td>\n",
       "      <td>21866.217596</td>\n",
       "      <td>117.614949</td>\n",
       "      <td>119.006085</td>\n",
       "      <td>117.369600</td>\n",
       "      <td>117.949815</td>\n",
       "      <td>0.711356</td>\n",
       "      <td>0.056636</td>\n",
       "      <td>0.740829</td>\n",
       "      <td>0.498285</td>\n",
       "      <td>0.153961</td>\n",
       "      <td>0.041460</td>\n",
       "      <td>32.883881</td>\n",
       "      <td>30.705439</td>\n",
       "      <td>905.773618</td>\n",
       "      <td>431.077922</td>\n",
       "    </tr>\n",
       "    <tr>\n",
       "      <th>50%</th>\n",
       "      <td>1.000000</td>\n",
       "      <td>0.000000</td>\n",
       "      <td>25756.902380</td>\n",
       "      <td>118.589469</td>\n",
       "      <td>119.921372</td>\n",
       "      <td>118.286962</td>\n",
       "      <td>118.936102</td>\n",
       "      <td>0.820229</td>\n",
       "      <td>0.158525</td>\n",
       "      <td>0.835075</td>\n",
       "      <td>0.588517</td>\n",
       "      <td>0.191297</td>\n",
       "      <td>0.051412</td>\n",
       "      <td>32.991709</td>\n",
       "      <td>34.633267</td>\n",
       "      <td>914.227703</td>\n",
       "      <td>435.463070</td>\n",
       "    </tr>\n",
       "    <tr>\n",
       "      <th>75%</th>\n",
       "      <td>1.000000</td>\n",
       "      <td>1.000000</td>\n",
       "      <td>33976.649286</td>\n",
       "      <td>119.657630</td>\n",
       "      <td>120.738549</td>\n",
       "      <td>119.396831</td>\n",
       "      <td>119.943394</td>\n",
       "      <td>1.883827</td>\n",
       "      <td>1.663827</td>\n",
       "      <td>2.731219</td>\n",
       "      <td>2.096348</td>\n",
       "      <td>0.606992</td>\n",
       "      <td>0.316665</td>\n",
       "      <td>32.991709</td>\n",
       "      <td>38.658723</td>\n",
       "      <td>925.486124</td>\n",
       "      <td>441.057872</td>\n",
       "    </tr>\n",
       "    <tr>\n",
       "      <th>max</th>\n",
       "      <td>1.000000</td>\n",
       "      <td>1.000000</td>\n",
       "      <td>37264.685514</td>\n",
       "      <td>122.616052</td>\n",
       "      <td>123.708133</td>\n",
       "      <td>122.422776</td>\n",
       "      <td>122.621771</td>\n",
       "      <td>5.241228</td>\n",
       "      <td>4.945732</td>\n",
       "      <td>6.191774</td>\n",
       "      <td>5.395519</td>\n",
       "      <td>1.161253</td>\n",
       "      <td>0.492676</td>\n",
       "      <td>33.127910</td>\n",
       "      <td>43.143863</td>\n",
       "      <td>932.070719</td>\n",
       "      <td>444.178325</td>\n",
       "    </tr>\n",
       "  </tbody>\n",
       "</table>\n",
       "</div>"
      ],
      "text/plain": [
       "       MAKING1_START   MAKING1_STOP    MAKING1_CNT  MAKING1_VOLT_A  \\\n",
       "count  158400.000000  158400.000000  158400.000000   158400.000000   \n",
       "mean        0.522418       0.427115   27598.551275      118.633787   \n",
       "std         0.499499       0.494661    5918.951310        1.249954   \n",
       "min         0.000000       0.000000   19978.679427      115.063150   \n",
       "25%         0.000000       0.000000   21866.217596      117.614949   \n",
       "50%         1.000000       0.000000   25756.902380      118.589469   \n",
       "75%         1.000000       1.000000   33976.649286      119.657630   \n",
       "max         1.000000       1.000000   37264.685514      122.616052   \n",
       "\n",
       "       MAKING1_VOLT_B  MAKING1_VOLT_C  MAKING1_VOLT_AVG  MAKING1_CURR_A  \\\n",
       "count   158400.000000   158400.000000     158400.000000   158400.000000   \n",
       "mean       119.913057      118.359518        118.962659        1.209694   \n",
       "std          1.169580        1.299195          1.234392        0.657308   \n",
       "min        116.570706      114.479417        115.487863        0.355046   \n",
       "25%        119.006085      117.369600        117.949815        0.711356   \n",
       "50%        119.921372      118.286962        118.936102        0.820229   \n",
       "75%        120.738549      119.396831        119.943394        1.883827   \n",
       "max        123.708133      122.422776        122.621771        5.241228   \n",
       "\n",
       "       MAKING1_CURR_B  MAKING1_CURR_C  MAKING1_CURR_AVG     MAKING1_KW  \\\n",
       "count   158400.000000   158400.000000     158400.000000  158400.000000   \n",
       "mean         0.829972        1.607035          1.212342       0.352885   \n",
       "std          0.833680        1.057567          0.842028       0.241113   \n",
       "min          0.003464        0.411792          0.281364       0.068953   \n",
       "25%          0.056636        0.740829          0.498285       0.153961   \n",
       "50%          0.158525        0.835075          0.588517       0.191297   \n",
       "75%          1.663827        2.731219          2.096348       0.606992   \n",
       "max          4.945732        6.191774          5.395519       1.161253   \n",
       "\n",
       "        MAKING1_KVAR     MAKING1_HZ  MAKING1_PWR_FACTOR    MAKING1_KWH  \\\n",
       "count  158400.000000  158400.000000       158400.000000  158400.000000   \n",
       "mean        0.168920      32.955868           34.132494     915.356262   \n",
       "std         0.137532       0.067333            5.028799      10.068855   \n",
       "min         0.027603      32.854244           21.765785     899.848871   \n",
       "25%         0.041460      32.883881           30.705439     905.773618   \n",
       "50%         0.051412      32.991709           34.633267     914.227703   \n",
       "75%         0.316665      32.991709           38.658723     925.486124   \n",
       "max         0.492676      33.127910           43.143863     932.070719   \n",
       "\n",
       "       MAKING1_KVARH  \n",
       "count  158400.000000  \n",
       "mean      435.934295  \n",
       "std         5.027104  \n",
       "min       428.177401  \n",
       "25%       431.077922  \n",
       "50%       435.463070  \n",
       "75%       441.057872  \n",
       "max       444.178325  "
      ]
     },
     "execution_count": 4,
     "metadata": {},
     "output_type": "execute_result"
    }
   ],
   "source": [
    "## 각 컬럼별 데이터 분포 확인\n",
    "data.describe()"
   ]
  },
  {
   "cell_type": "markdown",
   "id": "eae17a76",
   "metadata": {},
   "source": [
    "- count: 데이터의 갯수\n",
    "- mean: 각 컬럼별 데이터의 평균값\n",
    "- std:각 컬럼별 데이터의 표준편차\n",
    "- min:각 컬럼별 데이터의 최소값\n",
    "- 25%, 50%, 75%: 각 컬럼별 데이터의 분위수의 값\n",
    "- max:각 컬럼별 데이터의 최대값"
   ]
  },
  {
   "cell_type": "markdown",
   "id": "2d1f35eb",
   "metadata": {},
   "source": [
    "# 데이터 전처리"
   ]
  },
  {
   "cell_type": "markdown",
   "id": "81084f5a",
   "metadata": {},
   "source": [
    "## 변수 선언"
   ]
  },
  {
   "cell_type": "code",
   "execution_count": 5,
   "id": "4222564b",
   "metadata": {},
   "outputs": [
    {
     "data": {
      "text/html": [
       "<div>\n",
       "<style scoped>\n",
       "    .dataframe tbody tr th:only-of-type {\n",
       "        vertical-align: middle;\n",
       "    }\n",
       "\n",
       "    .dataframe tbody tr th {\n",
       "        vertical-align: top;\n",
       "    }\n",
       "\n",
       "    .dataframe thead th {\n",
       "        text-align: right;\n",
       "    }\n",
       "</style>\n",
       "<table border=\"1\" class=\"dataframe\">\n",
       "  <thead>\n",
       "    <tr style=\"text-align: right;\">\n",
       "      <th></th>\n",
       "      <th>MAKING1_START</th>\n",
       "      <th>MAKING1_STOP</th>\n",
       "      <th>MAKING1_CNT</th>\n",
       "      <th>MAKING1_VOLT_A</th>\n",
       "      <th>MAKING1_VOLT_B</th>\n",
       "      <th>MAKING1_VOLT_C</th>\n",
       "      <th>MAKING1_VOLT_AVG</th>\n",
       "      <th>MAKING1_CURR_A</th>\n",
       "      <th>MAKING1_CURR_B</th>\n",
       "      <th>MAKING1_CURR_C</th>\n",
       "      <th>MAKING1_CURR_AVG</th>\n",
       "      <th>MAKING1_KW</th>\n",
       "      <th>MAKING1_KVAR</th>\n",
       "      <th>MAKING1_HZ</th>\n",
       "      <th>MAKING1_PWR_FACTOR</th>\n",
       "      <th>MAKING1_KWH</th>\n",
       "      <th>MAKING1_KVARH</th>\n",
       "    </tr>\n",
       "  </thead>\n",
       "  <tbody>\n",
       "    <tr>\n",
       "      <th>0</th>\n",
       "      <td>1</td>\n",
       "      <td>0</td>\n",
       "      <td>19978.679427</td>\n",
       "      <td>118.034768</td>\n",
       "      <td>119.514007</td>\n",
       "      <td>118.025641</td>\n",
       "      <td>118.292214</td>\n",
       "      <td>0.770411</td>\n",
       "      <td>0.155281</td>\n",
       "      <td>0.735165</td>\n",
       "      <td>0.545518</td>\n",
       "      <td>0.175901</td>\n",
       "      <td>0.043439</td>\n",
       "      <td>32.991709</td>\n",
       "      <td>34.695346</td>\n",
       "      <td>899.848871</td>\n",
       "      <td>428.177401</td>\n",
       "    </tr>\n",
       "    <tr>\n",
       "      <th>1</th>\n",
       "      <td>1</td>\n",
       "      <td>0</td>\n",
       "      <td>19978.679427</td>\n",
       "      <td>118.034768</td>\n",
       "      <td>119.514007</td>\n",
       "      <td>118.025641</td>\n",
       "      <td>118.292214</td>\n",
       "      <td>0.770411</td>\n",
       "      <td>0.155281</td>\n",
       "      <td>0.735165</td>\n",
       "      <td>0.545518</td>\n",
       "      <td>0.175901</td>\n",
       "      <td>0.043439</td>\n",
       "      <td>32.991709</td>\n",
       "      <td>34.695346</td>\n",
       "      <td>899.848871</td>\n",
       "      <td>428.177401</td>\n",
       "    </tr>\n",
       "    <tr>\n",
       "      <th>2</th>\n",
       "      <td>1</td>\n",
       "      <td>0</td>\n",
       "      <td>19978.679427</td>\n",
       "      <td>118.082551</td>\n",
       "      <td>119.533032</td>\n",
       "      <td>118.058522</td>\n",
       "      <td>118.654133</td>\n",
       "      <td>0.759469</td>\n",
       "      <td>0.142909</td>\n",
       "      <td>0.742588</td>\n",
       "      <td>0.545518</td>\n",
       "      <td>0.175901</td>\n",
       "      <td>0.043439</td>\n",
       "      <td>32.991709</td>\n",
       "      <td>34.441750</td>\n",
       "      <td>899.848871</td>\n",
       "      <td>428.177401</td>\n",
       "    </tr>\n",
       "  </tbody>\n",
       "</table>\n",
       "</div>"
      ],
      "text/plain": [
       "   MAKING1_START  MAKING1_STOP   MAKING1_CNT  MAKING1_VOLT_A  MAKING1_VOLT_B  \\\n",
       "0              1             0  19978.679427      118.034768      119.514007   \n",
       "1              1             0  19978.679427      118.034768      119.514007   \n",
       "2              1             0  19978.679427      118.082551      119.533032   \n",
       "\n",
       "   MAKING1_VOLT_C  MAKING1_VOLT_AVG  MAKING1_CURR_A  MAKING1_CURR_B  \\\n",
       "0      118.025641        118.292214        0.770411        0.155281   \n",
       "1      118.025641        118.292214        0.770411        0.155281   \n",
       "2      118.058522        118.654133        0.759469        0.142909   \n",
       "\n",
       "   MAKING1_CURR_C  MAKING1_CURR_AVG  MAKING1_KW  MAKING1_KVAR  MAKING1_HZ  \\\n",
       "0        0.735165          0.545518    0.175901      0.043439   32.991709   \n",
       "1        0.735165          0.545518    0.175901      0.043439   32.991709   \n",
       "2        0.742588          0.545518    0.175901      0.043439   32.991709   \n",
       "\n",
       "   MAKING1_PWR_FACTOR  MAKING1_KWH  MAKING1_KVARH  \n",
       "0           34.695346   899.848871     428.177401  \n",
       "1           34.695346   899.848871     428.177401  \n",
       "2           34.441750   899.848871     428.177401  "
      ]
     },
     "execution_count": 5,
     "metadata": {},
     "output_type": "execute_result"
    }
   ],
   "source": [
    "## 가동정보 START(ON=1) 데이터 집합을 변수로 선언\n",
    "start_on = data[data['MAKING1_START']==1]\n",
    "start_on.head(3)"
   ]
  },
  {
   "cell_type": "code",
   "execution_count": 6,
   "id": "906b73b1",
   "metadata": {},
   "outputs": [
    {
     "data": {
      "text/html": [
       "<div>\n",
       "<style scoped>\n",
       "    .dataframe tbody tr th:only-of-type {\n",
       "        vertical-align: middle;\n",
       "    }\n",
       "\n",
       "    .dataframe tbody tr th {\n",
       "        vertical-align: top;\n",
       "    }\n",
       "\n",
       "    .dataframe thead th {\n",
       "        text-align: right;\n",
       "    }\n",
       "</style>\n",
       "<table border=\"1\" class=\"dataframe\">\n",
       "  <thead>\n",
       "    <tr style=\"text-align: right;\">\n",
       "      <th></th>\n",
       "      <th>MAKING1_START</th>\n",
       "      <th>MAKING1_STOP</th>\n",
       "      <th>MAKING1_CNT</th>\n",
       "      <th>MAKING1_VOLT_A</th>\n",
       "      <th>MAKING1_VOLT_B</th>\n",
       "      <th>MAKING1_VOLT_C</th>\n",
       "      <th>MAKING1_VOLT_AVG</th>\n",
       "      <th>MAKING1_CURR_A</th>\n",
       "      <th>MAKING1_CURR_B</th>\n",
       "      <th>MAKING1_CURR_C</th>\n",
       "      <th>MAKING1_CURR_AVG</th>\n",
       "      <th>MAKING1_KW</th>\n",
       "      <th>MAKING1_KVAR</th>\n",
       "      <th>MAKING1_HZ</th>\n",
       "      <th>MAKING1_PWR_FACTOR</th>\n",
       "      <th>MAKING1_KWH</th>\n",
       "      <th>MAKING1_KVARH</th>\n",
       "    </tr>\n",
       "  </thead>\n",
       "  <tbody>\n",
       "    <tr>\n",
       "      <th>3600</th>\n",
       "      <td>0</td>\n",
       "      <td>1</td>\n",
       "      <td>20552.185307</td>\n",
       "      <td>120.733985</td>\n",
       "      <td>121.774324</td>\n",
       "      <td>120.274960</td>\n",
       "      <td>120.963937</td>\n",
       "      <td>1.850340</td>\n",
       "      <td>1.629186</td>\n",
       "      <td>2.695698</td>\n",
       "      <td>2.053349</td>\n",
       "      <td>0.606992</td>\n",
       "      <td>0.343114</td>\n",
       "      <td>32.991709</td>\n",
       "      <td>38.699440</td>\n",
       "      <td>901.44347</td>\n",
       "      <td>428.947152</td>\n",
       "    </tr>\n",
       "    <tr>\n",
       "      <th>3601</th>\n",
       "      <td>0</td>\n",
       "      <td>1</td>\n",
       "      <td>20552.185307</td>\n",
       "      <td>120.733985</td>\n",
       "      <td>121.774324</td>\n",
       "      <td>120.274960</td>\n",
       "      <td>120.963937</td>\n",
       "      <td>1.850340</td>\n",
       "      <td>1.629186</td>\n",
       "      <td>2.695698</td>\n",
       "      <td>2.053349</td>\n",
       "      <td>0.606992</td>\n",
       "      <td>0.343114</td>\n",
       "      <td>32.991709</td>\n",
       "      <td>38.699440</td>\n",
       "      <td>901.44347</td>\n",
       "      <td>428.947152</td>\n",
       "    </tr>\n",
       "    <tr>\n",
       "      <th>3602</th>\n",
       "      <td>0</td>\n",
       "      <td>1</td>\n",
       "      <td>20552.185307</td>\n",
       "      <td>120.740308</td>\n",
       "      <td>121.770145</td>\n",
       "      <td>120.278369</td>\n",
       "      <td>120.503868</td>\n",
       "      <td>1.884596</td>\n",
       "      <td>1.647551</td>\n",
       "      <td>2.720331</td>\n",
       "      <td>2.079138</td>\n",
       "      <td>0.606992</td>\n",
       "      <td>0.343114</td>\n",
       "      <td>32.867825</td>\n",
       "      <td>38.318991</td>\n",
       "      <td>901.44347</td>\n",
       "      <td>428.947152</td>\n",
       "    </tr>\n",
       "  </tbody>\n",
       "</table>\n",
       "</div>"
      ],
      "text/plain": [
       "      MAKING1_START  MAKING1_STOP   MAKING1_CNT  MAKING1_VOLT_A  \\\n",
       "3600              0             1  20552.185307      120.733985   \n",
       "3601              0             1  20552.185307      120.733985   \n",
       "3602              0             1  20552.185307      120.740308   \n",
       "\n",
       "      MAKING1_VOLT_B  MAKING1_VOLT_C  MAKING1_VOLT_AVG  MAKING1_CURR_A  \\\n",
       "3600      121.774324      120.274960        120.963937        1.850340   \n",
       "3601      121.774324      120.274960        120.963937        1.850340   \n",
       "3602      121.770145      120.278369        120.503868        1.884596   \n",
       "\n",
       "      MAKING1_CURR_B  MAKING1_CURR_C  MAKING1_CURR_AVG  MAKING1_KW  \\\n",
       "3600        1.629186        2.695698          2.053349    0.606992   \n",
       "3601        1.629186        2.695698          2.053349    0.606992   \n",
       "3602        1.647551        2.720331          2.079138    0.606992   \n",
       "\n",
       "      MAKING1_KVAR  MAKING1_HZ  MAKING1_PWR_FACTOR  MAKING1_KWH  MAKING1_KVARH  \n",
       "3600      0.343114   32.991709           38.699440    901.44347     428.947152  \n",
       "3601      0.343114   32.991709           38.699440    901.44347     428.947152  \n",
       "3602      0.343114   32.867825           38.318991    901.44347     428.947152  "
      ]
     },
     "execution_count": 6,
     "metadata": {},
     "output_type": "execute_result"
    }
   ],
   "source": [
    "## 가동정보 START(OFF=0) 데이터 집합을 변수로 선언\n",
    "start_off = data[data['MAKING1_START']==0]\n",
    "start_off.head(3)"
   ]
  },
  {
   "cell_type": "code",
   "execution_count": 7,
   "id": "a97cfa12",
   "metadata": {},
   "outputs": [
    {
     "data": {
      "text/html": [
       "<div>\n",
       "<style scoped>\n",
       "    .dataframe tbody tr th:only-of-type {\n",
       "        vertical-align: middle;\n",
       "    }\n",
       "\n",
       "    .dataframe tbody tr th {\n",
       "        vertical-align: top;\n",
       "    }\n",
       "\n",
       "    .dataframe thead th {\n",
       "        text-align: right;\n",
       "    }\n",
       "</style>\n",
       "<table border=\"1\" class=\"dataframe\">\n",
       "  <thead>\n",
       "    <tr style=\"text-align: right;\">\n",
       "      <th></th>\n",
       "      <th>MAKING1_START</th>\n",
       "      <th>MAKING1_STOP</th>\n",
       "      <th>MAKING1_CNT</th>\n",
       "      <th>MAKING1_VOLT_A</th>\n",
       "      <th>MAKING1_VOLT_B</th>\n",
       "      <th>MAKING1_VOLT_C</th>\n",
       "      <th>MAKING1_VOLT_AVG</th>\n",
       "      <th>MAKING1_CURR_A</th>\n",
       "      <th>MAKING1_CURR_B</th>\n",
       "      <th>MAKING1_CURR_C</th>\n",
       "      <th>MAKING1_CURR_AVG</th>\n",
       "      <th>MAKING1_KW</th>\n",
       "      <th>MAKING1_KVAR</th>\n",
       "      <th>MAKING1_HZ</th>\n",
       "      <th>MAKING1_PWR_FACTOR</th>\n",
       "      <th>MAKING1_KWH</th>\n",
       "      <th>MAKING1_KVARH</th>\n",
       "    </tr>\n",
       "  </thead>\n",
       "  <tbody>\n",
       "    <tr>\n",
       "      <th>3600</th>\n",
       "      <td>0</td>\n",
       "      <td>1</td>\n",
       "      <td>20552.185307</td>\n",
       "      <td>120.733985</td>\n",
       "      <td>121.774324</td>\n",
       "      <td>120.274960</td>\n",
       "      <td>120.963937</td>\n",
       "      <td>1.850340</td>\n",
       "      <td>1.629186</td>\n",
       "      <td>2.695698</td>\n",
       "      <td>2.053349</td>\n",
       "      <td>0.606992</td>\n",
       "      <td>0.343114</td>\n",
       "      <td>32.991709</td>\n",
       "      <td>38.699440</td>\n",
       "      <td>901.44347</td>\n",
       "      <td>428.947152</td>\n",
       "    </tr>\n",
       "    <tr>\n",
       "      <th>3601</th>\n",
       "      <td>0</td>\n",
       "      <td>1</td>\n",
       "      <td>20552.185307</td>\n",
       "      <td>120.733985</td>\n",
       "      <td>121.774324</td>\n",
       "      <td>120.274960</td>\n",
       "      <td>120.963937</td>\n",
       "      <td>1.850340</td>\n",
       "      <td>1.629186</td>\n",
       "      <td>2.695698</td>\n",
       "      <td>2.053349</td>\n",
       "      <td>0.606992</td>\n",
       "      <td>0.343114</td>\n",
       "      <td>32.991709</td>\n",
       "      <td>38.699440</td>\n",
       "      <td>901.44347</td>\n",
       "      <td>428.947152</td>\n",
       "    </tr>\n",
       "    <tr>\n",
       "      <th>3602</th>\n",
       "      <td>0</td>\n",
       "      <td>1</td>\n",
       "      <td>20552.185307</td>\n",
       "      <td>120.740308</td>\n",
       "      <td>121.770145</td>\n",
       "      <td>120.278369</td>\n",
       "      <td>120.503868</td>\n",
       "      <td>1.884596</td>\n",
       "      <td>1.647551</td>\n",
       "      <td>2.720331</td>\n",
       "      <td>2.079138</td>\n",
       "      <td>0.606992</td>\n",
       "      <td>0.343114</td>\n",
       "      <td>32.867825</td>\n",
       "      <td>38.318991</td>\n",
       "      <td>901.44347</td>\n",
       "      <td>428.947152</td>\n",
       "    </tr>\n",
       "  </tbody>\n",
       "</table>\n",
       "</div>"
      ],
      "text/plain": [
       "      MAKING1_START  MAKING1_STOP   MAKING1_CNT  MAKING1_VOLT_A  \\\n",
       "3600              0             1  20552.185307      120.733985   \n",
       "3601              0             1  20552.185307      120.733985   \n",
       "3602              0             1  20552.185307      120.740308   \n",
       "\n",
       "      MAKING1_VOLT_B  MAKING1_VOLT_C  MAKING1_VOLT_AVG  MAKING1_CURR_A  \\\n",
       "3600      121.774324      120.274960        120.963937        1.850340   \n",
       "3601      121.774324      120.274960        120.963937        1.850340   \n",
       "3602      121.770145      120.278369        120.503868        1.884596   \n",
       "\n",
       "      MAKING1_CURR_B  MAKING1_CURR_C  MAKING1_CURR_AVG  MAKING1_KW  \\\n",
       "3600        1.629186        2.695698          2.053349    0.606992   \n",
       "3601        1.629186        2.695698          2.053349    0.606992   \n",
       "3602        1.647551        2.720331          2.079138    0.606992   \n",
       "\n",
       "      MAKING1_KVAR  MAKING1_HZ  MAKING1_PWR_FACTOR  MAKING1_KWH  MAKING1_KVARH  \n",
       "3600      0.343114   32.991709           38.699440    901.44347     428.947152  \n",
       "3601      0.343114   32.991709           38.699440    901.44347     428.947152  \n",
       "3602      0.343114   32.867825           38.318991    901.44347     428.947152  "
      ]
     },
     "execution_count": 7,
     "metadata": {},
     "output_type": "execute_result"
    }
   ],
   "source": [
    "## 가동정보 STOP(ON=1) 데이터 집합을 변수로 선언\n",
    "stop_on = data[data['MAKING1_STOP']==1]\n",
    "stop_on.head(3)"
   ]
  },
  {
   "cell_type": "code",
   "execution_count": 8,
   "id": "09a46239",
   "metadata": {},
   "outputs": [
    {
     "data": {
      "text/html": [
       "<div>\n",
       "<style scoped>\n",
       "    .dataframe tbody tr th:only-of-type {\n",
       "        vertical-align: middle;\n",
       "    }\n",
       "\n",
       "    .dataframe tbody tr th {\n",
       "        vertical-align: top;\n",
       "    }\n",
       "\n",
       "    .dataframe thead th {\n",
       "        text-align: right;\n",
       "    }\n",
       "</style>\n",
       "<table border=\"1\" class=\"dataframe\">\n",
       "  <thead>\n",
       "    <tr style=\"text-align: right;\">\n",
       "      <th></th>\n",
       "      <th>MAKING1_START</th>\n",
       "      <th>MAKING1_STOP</th>\n",
       "      <th>MAKING1_CNT</th>\n",
       "      <th>MAKING1_VOLT_A</th>\n",
       "      <th>MAKING1_VOLT_B</th>\n",
       "      <th>MAKING1_VOLT_C</th>\n",
       "      <th>MAKING1_VOLT_AVG</th>\n",
       "      <th>MAKING1_CURR_A</th>\n",
       "      <th>MAKING1_CURR_B</th>\n",
       "      <th>MAKING1_CURR_C</th>\n",
       "      <th>MAKING1_CURR_AVG</th>\n",
       "      <th>MAKING1_KW</th>\n",
       "      <th>MAKING1_KVAR</th>\n",
       "      <th>MAKING1_HZ</th>\n",
       "      <th>MAKING1_PWR_FACTOR</th>\n",
       "      <th>MAKING1_KWH</th>\n",
       "      <th>MAKING1_KVARH</th>\n",
       "    </tr>\n",
       "  </thead>\n",
       "  <tbody>\n",
       "    <tr>\n",
       "      <th>0</th>\n",
       "      <td>1</td>\n",
       "      <td>0</td>\n",
       "      <td>19978.679427</td>\n",
       "      <td>118.034768</td>\n",
       "      <td>119.514007</td>\n",
       "      <td>118.025641</td>\n",
       "      <td>118.292214</td>\n",
       "      <td>0.770411</td>\n",
       "      <td>0.155281</td>\n",
       "      <td>0.735165</td>\n",
       "      <td>0.545518</td>\n",
       "      <td>0.175901</td>\n",
       "      <td>0.043439</td>\n",
       "      <td>32.991709</td>\n",
       "      <td>34.695346</td>\n",
       "      <td>899.848871</td>\n",
       "      <td>428.177401</td>\n",
       "    </tr>\n",
       "    <tr>\n",
       "      <th>1</th>\n",
       "      <td>1</td>\n",
       "      <td>0</td>\n",
       "      <td>19978.679427</td>\n",
       "      <td>118.034768</td>\n",
       "      <td>119.514007</td>\n",
       "      <td>118.025641</td>\n",
       "      <td>118.292214</td>\n",
       "      <td>0.770411</td>\n",
       "      <td>0.155281</td>\n",
       "      <td>0.735165</td>\n",
       "      <td>0.545518</td>\n",
       "      <td>0.175901</td>\n",
       "      <td>0.043439</td>\n",
       "      <td>32.991709</td>\n",
       "      <td>34.695346</td>\n",
       "      <td>899.848871</td>\n",
       "      <td>428.177401</td>\n",
       "    </tr>\n",
       "    <tr>\n",
       "      <th>2</th>\n",
       "      <td>1</td>\n",
       "      <td>0</td>\n",
       "      <td>19978.679427</td>\n",
       "      <td>118.082551</td>\n",
       "      <td>119.533032</td>\n",
       "      <td>118.058522</td>\n",
       "      <td>118.654133</td>\n",
       "      <td>0.759469</td>\n",
       "      <td>0.142909</td>\n",
       "      <td>0.742588</td>\n",
       "      <td>0.545518</td>\n",
       "      <td>0.175901</td>\n",
       "      <td>0.043439</td>\n",
       "      <td>32.991709</td>\n",
       "      <td>34.441750</td>\n",
       "      <td>899.848871</td>\n",
       "      <td>428.177401</td>\n",
       "    </tr>\n",
       "  </tbody>\n",
       "</table>\n",
       "</div>"
      ],
      "text/plain": [
       "   MAKING1_START  MAKING1_STOP   MAKING1_CNT  MAKING1_VOLT_A  MAKING1_VOLT_B  \\\n",
       "0              1             0  19978.679427      118.034768      119.514007   \n",
       "1              1             0  19978.679427      118.034768      119.514007   \n",
       "2              1             0  19978.679427      118.082551      119.533032   \n",
       "\n",
       "   MAKING1_VOLT_C  MAKING1_VOLT_AVG  MAKING1_CURR_A  MAKING1_CURR_B  \\\n",
       "0      118.025641        118.292214        0.770411        0.155281   \n",
       "1      118.025641        118.292214        0.770411        0.155281   \n",
       "2      118.058522        118.654133        0.759469        0.142909   \n",
       "\n",
       "   MAKING1_CURR_C  MAKING1_CURR_AVG  MAKING1_KW  MAKING1_KVAR  MAKING1_HZ  \\\n",
       "0        0.735165          0.545518    0.175901      0.043439   32.991709   \n",
       "1        0.735165          0.545518    0.175901      0.043439   32.991709   \n",
       "2        0.742588          0.545518    0.175901      0.043439   32.991709   \n",
       "\n",
       "   MAKING1_PWR_FACTOR  MAKING1_KWH  MAKING1_KVARH  \n",
       "0           34.695346   899.848871     428.177401  \n",
       "1           34.695346   899.848871     428.177401  \n",
       "2           34.441750   899.848871     428.177401  "
      ]
     },
     "execution_count": 8,
     "metadata": {},
     "output_type": "execute_result"
    }
   ],
   "source": [
    "## 가동정보 STOP(ON=0) 데이터 집합을 변수로 선언\n",
    "stop_off = data[data['MAKING1_STOP']==0]\n",
    "stop_off.head(3)"
   ]
  },
  {
   "cell_type": "markdown",
   "id": "b13c5984",
   "metadata": {},
   "source": [
    "## 훈련용 데이터셋 만들기"
   ]
  },
  {
   "cell_type": "markdown",
   "id": "c49ddb9e",
   "metadata": {},
   "source": [
    "### 종속변수 = START(ON/OFF) 데이터셋"
   ]
  },
  {
   "cell_type": "code",
   "execution_count": 41,
   "id": "6a70e741",
   "metadata": {},
   "outputs": [
    {
     "data": {
      "text/plain": [
       "((158400, 15), (158400, 1))"
      ]
     },
     "execution_count": 41,
     "metadata": {},
     "output_type": "execute_result"
    }
   ],
   "source": [
    "X = np.array(data.iloc[:, 2:])\n",
    "Y_start = np.array(data.iloc[:, 0])\n",
    "Y_start = Y_start.reshape(-1, 1)\n",
    "X.shape, Y_start.shape"
   ]
  },
  {
   "cell_type": "markdown",
   "id": "d4d0cc8e",
   "metadata": {},
   "source": [
    "### 종속변수 = STOP(ON/OFF) 데이터셋"
   ]
  },
  {
   "cell_type": "code",
   "execution_count": 42,
   "id": "46dba88d",
   "metadata": {},
   "outputs": [
    {
     "data": {
      "text/plain": [
       "((158400, 15), (158400, 1))"
      ]
     },
     "execution_count": 42,
     "metadata": {},
     "output_type": "execute_result"
    }
   ],
   "source": [
    "X = np.array(data.iloc[:, 2:])\n",
    "Y_stop = np.array(data.iloc[:, 1])\n",
    "Y_stop = Y_stop.reshape(-1, 1)\n",
    "X.shape, Y_stop.shape"
   ]
  },
  {
   "cell_type": "markdown",
   "id": "6d81f72f",
   "metadata": {},
   "source": [
    "# 모델링"
   ]
  },
  {
   "cell_type": "markdown",
   "id": "f377a3f7",
   "metadata": {},
   "source": [
    "## 결과 지표 (Confusion Matrix, 혼동행렬)\n",
    "- precision: 모델이 이상이라 분류한 것 중 실제 이상인 비율, TP/(TP+FP)\n",
    "- accuracy: 전체 중 모델이 바르게 분류한 비율, (TP+TN)/(TP+TN+FP+FN)\n",
    "- recall: 실제 값이 이상인 것 중 모델이 이상이라 분류한 비율, TP/(TP+FN)\n",
    "- f1: Precision과 Recall의 조화평균, (2 * precision * recall)/(precision + recall)"
   ]
  },
  {
   "cell_type": "markdown",
   "id": "d6452e49",
   "metadata": {},
   "source": [
    "## 종속변수 = START(ON/OFF) 모델"
   ]
  },
  {
   "cell_type": "code",
   "execution_count": 11,
   "id": "97d3f136",
   "metadata": {},
   "outputs": [],
   "source": [
    "## 데이터셋을 훈련용과 테스트용으로 분리\n",
    "X_train, X_test, y_train, y_test = train_test_split(X, Y_start, test_size=0.3,\n",
    "                                                    shuffle=True, random_state=1004)"
   ]
  },
  {
   "cell_type": "markdown",
   "id": "d308bb84",
   "metadata": {},
   "source": [
    "### 로지스틱 회귀\n",
    ": 선형 회귀 분석과는 다르게 종속 변수가 범주형 데이터를 대상으로 하며 입력 데이터가 주어졌을 때 해당 데이터의 결과가 특정 분류로 나뉘는 일종의 분류기법이다."
   ]
  },
  {
   "cell_type": "code",
   "execution_count": 12,
   "id": "ae1f4cdd",
   "metadata": {},
   "outputs": [
    {
     "name": "stdout",
     "output_type": "stream",
     "text": [
      "accuracy 0.5651936026936027\n",
      "precision 0.5681535931259021\n",
      "recall 0.6846661003923472\n",
      "f1 0.6209920023479346\n",
      "\n",
      "\n",
      "              precision    recall  f1-score   support\n",
      "\n",
      "           0       0.56      0.44      0.49     22797\n",
      "           1       0.57      0.68      0.62     24723\n",
      "\n",
      "    accuracy                           0.57     47520\n",
      "   macro avg       0.56      0.56      0.56     47520\n",
      "weighted avg       0.56      0.57      0.56     47520\n",
      "\n",
      "\n",
      "\n"
     ]
    },
    {
     "data": {
      "image/png": "[encoded data removed]",
      "text/plain": [
       "<Figure size 640x480 with 2 Axes>"
      ]
     },
     "metadata": {},
     "output_type": "display_data"
    },
    {
     "name": "stdout",
     "output_type": "stream",
     "text": [
      "TN, FP, FN, TP: 9931 12866 7796 16927\n"
     ]
    }
   ],
   "source": [
    "lr_reg = LogisticRegression()\n",
    "lr_reg.fit(X_train, y_train)\n",
    "lr_pred = lr_reg.predict(X_test)\n",
    "confusion_matrix(y_test, lr_pred)\n",
    "\n",
    "print('accuracy', accuracy_score(y_test, lr_pred))\n",
    "print('precision', precision_score(y_test, lr_pred))\n",
    "print('recall', recall_score(y_test, lr_pred))\n",
    "print('f1', f1_score(y_test, lr_pred))\n",
    "      \n",
    "print(\"\\n\")\n",
    "print(classification_report(y_test, lr_pred))\n",
    "print(\"\\n\")\n",
    "\n",
    "## 혼동행렬\n",
    "sns.heatmap(confusion_matrix(y_test, lr_pred), annot=True, fmt=\".0f\", cmap='YlGn')\n",
    "plt.xlabel('Predicted Values', size = 15)\n",
    "plt.ylabel('Actual Values', size = 15)\n",
    "plt.title('Confusion_matrix', size = 20)\n",
    "plt.show()\n",
    "\n",
    "tn, fp, fn, tp = confusion_matrix(y_test, lr_pred).ravel()\n",
    "print(\"TN, FP, FN, TP:\", tn, fp, fn, tp)"
   ]
  },
  {
   "cell_type": "markdown",
   "id": "8d81c754",
   "metadata": {},
   "source": [
    "### 의사결정나무 분류\n",
    ": 데이터를 분석하여 데이터 간 존재하는 패턴을 예측 가능한 규칙들의 조합으로 나타내는 것으로 그 모양이 나무와 같다."
   ]
  },
  {
   "cell_type": "code",
   "execution_count": 13,
   "id": "ba4807db",
   "metadata": {},
   "outputs": [
    {
     "name": "stdout",
     "output_type": "stream",
     "text": [
      "accuracy 0.9946127946127946\n",
      "precision 0.994662569245077\n",
      "recall 0.9949844274562148\n",
      "f1 0.9948234723177094\n",
      "\n",
      "\n",
      "              precision    recall  f1-score   support\n",
      "\n",
      "           0       0.99      0.99      0.99     22797\n",
      "           1       0.99      0.99      0.99     24723\n",
      "\n",
      "    accuracy                           0.99     47520\n",
      "   macro avg       0.99      0.99      0.99     47520\n",
      "weighted avg       0.99      0.99      0.99     47520\n",
      "\n",
      "\n",
      "\n"
     ]
    },
    {
     "data": {
      "image/png": "[encoded data removed]",
      "text/plain": [
       "<Figure size 640x480 with 2 Axes>"
      ]
     },
     "metadata": {},
     "output_type": "display_data"
    },
    {
     "name": "stdout",
     "output_type": "stream",
     "text": [
      "TN, FP, FN, TP: 22665 132 124 24599\n"
     ]
    }
   ],
   "source": [
    "dt_clf = DecisionTreeClassifier(criterion='gini')\n",
    "dt_clf.fit(X_train, y_train)\n",
    "dt_pred = dt_clf.predict(X_test)\n",
    "\n",
    "print('accuracy', accuracy_score(y_test, dt_pred))\n",
    "print('precision', precision_score(y_test, dt_pred))\n",
    "print('recall', recall_score(y_test, dt_pred))\n",
    "print('f1', f1_score(y_test, dt_pred))\n",
    "      \n",
    "print(\"\\n\")\n",
    "print(classification_report(y_test, dt_pred))\n",
    "print(\"\\n\")\n",
    "\n",
    "## 혼동행렬\n",
    "sns.heatmap(confusion_matrix(y_test, dt_pred), annot=True, fmt=\".0f\", cmap='YlGn')\n",
    "plt.xlabel('Predicted Values', size = 15)\n",
    "plt.ylabel('Actual Values', size = 15)\n",
    "plt.title('Confusion_matrix', size = 20)\n",
    "plt.show()\n",
    "\n",
    "tn, fp, fn, tp = confusion_matrix(y_test, dt_pred).ravel()\n",
    "print(\"TN, FP, FN, TP:\", tn, fp, fn, tp)"
   ]
  },
  {
   "cell_type": "markdown",
   "id": "ef21ba08",
   "metadata": {},
   "source": [
    "### 랜덤포레스트 분류\n",
    ": 의사결정 나무의 경우 과적합(overfitting)이 일어날 가능성이 있어 일반화에 부적합한 상황이 나올 수 있다. 이를 보완하기 위해 앙상블 모델을 채택해 만든 것이다."
   ]
  },
  {
   "cell_type": "code",
   "execution_count": 14,
   "id": "25852324",
   "metadata": {},
   "outputs": [
    {
     "name": "stdout",
     "output_type": "stream",
     "text": [
      "accuracy 0.9986321548821548\n",
      "precision 0.9985039624777616\n",
      "recall 0.9988674513610808\n",
      "f1 0.9986856738449095\n",
      "\n",
      "\n",
      "              precision    recall  f1-score   support\n",
      "\n",
      "           0       1.00      1.00      1.00     22797\n",
      "           1       1.00      1.00      1.00     24723\n",
      "\n",
      "    accuracy                           1.00     47520\n",
      "   macro avg       1.00      1.00      1.00     47520\n",
      "weighted avg       1.00      1.00      1.00     47520\n",
      "\n",
      "\n",
      "\n"
     ]
    },
    {
     "data": {
      "image/png": "[encoded data removed]",
      "text/plain": [
       "<Figure size 640x480 with 2 Axes>"
      ]
     },
     "metadata": {},
     "output_type": "display_data"
    },
    {
     "name": "stdout",
     "output_type": "stream",
     "text": [
      "TN, FP, FN, TP: 22760 37 28 24695\n"
     ]
    }
   ],
   "source": [
    "rf_clf = RandomForestClassifier(n_estimators=100, criterion='gini')\n",
    "rf_clf.fit(X_train, y_train)\n",
    "rf_pred = rf_clf.predict(X_test)\n",
    "\n",
    "print('accuracy', accuracy_score(y_test, rf_pred))\n",
    "print('precision', precision_score(y_test, rf_pred))\n",
    "print('recall', recall_score(y_test, rf_pred))\n",
    "print('f1', f1_score(y_test, rf_pred))\n",
    "      \n",
    "print(\"\\n\")\n",
    "print(classification_report(y_test, rf_pred))\n",
    "print(\"\\n\")\n",
    "\n",
    "## 혼동행렬\n",
    "sns.heatmap(confusion_matrix(y_test, rf_pred), annot=True, fmt=\".0f\", cmap='YlGn')\n",
    "plt.xlabel('Predicted Values', size = 15)\n",
    "plt.ylabel('Actual Values', size = 15)\n",
    "plt.title('Confusion_matrix', size = 20)\n",
    "plt.show()\n",
    "\n",
    "tn, fp, fn, tp = confusion_matrix(y_test, rf_pred).ravel()\n",
    "print(\"TN, FP, FN, TP:\", tn, fp, fn, tp)"
   ]
  },
  {
   "cell_type": "markdown",
   "id": "74b66d6b",
   "metadata": {},
   "source": [
    "### XGBoost\n",
    ": 의사결정 나무의 약점을 보완한 랜덤포레스트와 같이 앙상블 모델 기법을 채택한 모델이고, 부스팅의 원리를 이용하여 가중치를 갱신한다."
   ]
  },
  {
   "cell_type": "code",
   "execution_count": 15,
   "id": "228bb8f2",
   "metadata": {
    "scrolled": false
   },
   "outputs": [
    {
     "name": "stdout",
     "output_type": "stream",
     "text": [
      "accuracy 0.7780513468013468\n",
      "precision 0.7489638215665613\n",
      "recall 0.8624762367026655\n",
      "f1 0.8017220310943168\n",
      "\n",
      "\n",
      "              precision    recall  f1-score   support\n",
      "\n",
      "           0       0.82      0.69      0.75     22797\n",
      "           1       0.75      0.86      0.80     24723\n",
      "\n",
      "    accuracy                           0.78     47520\n",
      "   macro avg       0.79      0.77      0.77     47520\n",
      "weighted avg       0.78      0.78      0.78     47520\n",
      "\n",
      "\n",
      "\n"
     ]
    },
    {
     "data": {
      "image/png": "[encoded data removed]",
      "text/plain": [
       "<Figure size 640x480 with 2 Axes>"
      ]
     },
     "metadata": {},
     "output_type": "display_data"
    },
    {
     "name": "stdout",
     "output_type": "stream",
     "text": [
      "TN, FP, FN, TP: 15650 7147 3400 21323\n"
     ]
    }
   ],
   "source": [
    "xgb_clf = XGBClassifier(learning_rate=0.0001, objective='reg:squarederror')\n",
    "xgb_clf.fit(np.array(X_train), np.array(y_train))\n",
    "xgb_pred = xgb_clf.predict(np.array(X_test))\n",
    "\n",
    "print('accuracy', accuracy_score(y_test, xgb_pred))\n",
    "print('precision', precision_score(y_test, xgb_pred))\n",
    "print('recall', recall_score(y_test, xgb_pred))\n",
    "print('f1', f1_score(y_test, xgb_pred))\n",
    "      \n",
    "print(\"\\n\")\n",
    "print(classification_report(y_test, xgb_pred))\n",
    "print(\"\\n\")\n",
    "\n",
    "## 혼동행렬\n",
    "sns.heatmap(confusion_matrix(y_test, xgb_pred), annot=True, fmt=\".0f\", cmap='YlGn')\n",
    "plt.xlabel('Predicted Values', size = 15)\n",
    "plt.ylabel('Actual Values', size = 15)\n",
    "plt.title('Confusion_matrix', size = 20)\n",
    "plt.show()\n",
    "\n",
    "tn, fp, fn, tp = confusion_matrix(y_test, xgb_pred).ravel()\n",
    "print(\"TN, FP, FN, TP:\", tn, fp, fn, tp)"
   ]
  },
  {
   "cell_type": "markdown",
   "id": "e5dba51d",
   "metadata": {},
   "source": [
    "=> 값이 다르게 나옴 (버전 차이같음)"
   ]
  },
  {
   "cell_type": "code",
   "execution_count": 16,
   "id": "b422bdbd",
   "metadata": {},
   "outputs": [
    {
     "name": "stdout",
     "output_type": "stream",
     "text": [
      "Best parameters:  {'learning_rate': 0.1, 'max_depth': 7, 'n_estimators': 300}\n",
      "Best accuracy:  0.9991612554112553\n"
     ]
    },
    {
     "data": {
      "text/html": [
       "<style>#sk-container-id-1 {color: black;background-color: white;}#sk-container-id-1 pre{padding: 0;}#sk-container-id-1 div.sk-toggleable {background-color: white;}#sk-container-id-1 label.sk-toggleable__label {cursor: pointer;display: block;width: 100%;margin-bottom: 0;padding: 0.3em;box-sizing: border-box;text-align: center;}#sk-container-id-1 label.sk-toggleable__label-arrow:before {content: \"▸\";float: left;margin-right: 0.25em;color: #696969;}#sk-container-id-1 label.sk-toggleable__label-arrow:hover:before {color: black;}#sk-container-id-1 div.sk-estimator:hover label.sk-toggleable__label-arrow:before {color: black;}#sk-container-id-1 div.sk-toggleable__content {max-height: 0;max-width: 0;overflow: hidden;text-align: left;background-color: #f0f8ff;}#sk-container-id-1 div.sk-toggleable__content pre {margin: 0.2em;color: black;border-radius: 0.25em;background-color: #f0f8ff;}#sk-container-id-1 input.sk-toggleable__control:checked~div.sk-toggleable__content {max-height: 200px;max-width: 100%;overflow: auto;}#sk-container-id-1 input.sk-toggleable__control:checked~label.sk-toggleable__label-arrow:before {content: \"▾\";}#sk-container-id-1 div.sk-estimator input.sk-toggleable__control:checked~label.sk-toggleable__label {background-color: #d4ebff;}#sk-container-id-1 div.sk-label input.sk-toggleable__control:checked~label.sk-toggleable__label {background-color: #d4ebff;}#sk-container-id-1 input.sk-hidden--visually {border: 0;clip: rect(1px 1px 1px 1px);clip: rect(1px, 1px, 1px, 1px);height: 1px;margin: -1px;overflow: hidden;padding: 0;position: absolute;width: 1px;}#sk-container-id-1 div.sk-estimator {font-family: monospace;background-color: #f0f8ff;border: 1px dotted black;border-radius: 0.25em;box-sizing: border-box;margin-bottom: 0.5em;}#sk-container-id-1 div.sk-estimator:hover {background-color: #d4ebff;}#sk-container-id-1 div.sk-parallel-item::after {content: \"\";width: 100%;border-bottom: 1px solid gray;flex-grow: 1;}#sk-container-id-1 div.sk-label:hover label.sk-toggleable__label {background-color: #d4ebff;}#sk-container-id-1 div.sk-serial::before {content: \"\";position: absolute;border-left: 1px solid gray;box-sizing: border-box;top: 0;bottom: 0;left: 50%;z-index: 0;}#sk-container-id-1 div.sk-serial {display: flex;flex-direction: column;align-items: center;background-color: white;padding-right: 0.2em;padding-left: 0.2em;position: relative;}#sk-container-id-1 div.sk-item {position: relative;z-index: 1;}#sk-container-id-1 div.sk-parallel {display: flex;align-items: stretch;justify-content: center;background-color: white;position: relative;}#sk-container-id-1 div.sk-item::before, #sk-container-id-1 div.sk-parallel-item::before {content: \"\";position: absolute;border-left: 1px solid gray;box-sizing: border-box;top: 0;bottom: 0;left: 50%;z-index: -1;}#sk-container-id-1 div.sk-parallel-item {display: flex;flex-direction: column;z-index: 1;position: relative;background-color: white;}#sk-container-id-1 div.sk-parallel-item:first-child::after {align-self: flex-end;width: 50%;}#sk-container-id-1 div.sk-parallel-item:last-child::after {align-self: flex-start;width: 50%;}#sk-container-id-1 div.sk-parallel-item:only-child::after {width: 0;}#sk-container-id-1 div.sk-dashed-wrapped {border: 1px dashed gray;margin: 0 0.4em 0.5em 0.4em;box-sizing: border-box;padding-bottom: 0.4em;background-color: white;}#sk-container-id-1 div.sk-label label {font-family: monospace;font-weight: bold;display: inline-block;line-height: 1.2em;}#sk-container-id-1 div.sk-label-container {text-align: center;}#sk-container-id-1 div.sk-container {/* jupyter's `normalize.less` sets `[hidden] { display: none; }` but bootstrap.min.css set `[hidden] { display: none !important; }` so we also need the `!important` here to be able to override the default hidden behavior on the sphinx rendered scikit-learn.org. See: https://github.com/scikit-learn/scikit-learn/issues/21755 */display: inline-block !important;position: relative;}#sk-container-id-1 div.sk-text-repr-fallback {display: none;}</style><div id=\"sk-container-id-1\" class=\"sk-top-container\"><div class=\"sk-text-repr-fallback\"><pre>XGBClassifier(base_score=None, booster=None, callbacks=None,\n",
       "              colsample_bylevel=None, colsample_bynode=None,\n",
       "              colsample_bytree=None, early_stopping_rounds=None,\n",
       "              enable_categorical=False, eval_metric=None, feature_types=None,\n",
       "              gamma=None, gpu_id=None, grow_policy=None, importance_type=None,\n",
       "              interaction_constraints=None, learning_rate=0.1, max_bin=None,\n",
       "              max_cat_threshold=None, max_cat_to_onehot=None,\n",
       "              max_delta_step=None, max_depth=7, max_leaves=None,\n",
       "              min_child_weight=None, missing=nan, monotone_constraints=None,\n",
       "              n_estimators=300, n_jobs=None, num_parallel_tree=None,\n",
       "              predictor=None, random_state=None, ...)</pre><b>In a Jupyter environment, please rerun this cell to show the HTML representation or trust the notebook. <br />On GitHub, the HTML representation is unable to render, please try loading this page with nbviewer.org.</b></div><div class=\"sk-container\" hidden><div class=\"sk-item\"><div class=\"sk-estimator sk-toggleable\"><input class=\"sk-toggleable__control sk-hidden--visually\" id=\"sk-estimator-id-1\" type=\"checkbox\" checked><label for=\"sk-estimator-id-1\" class=\"sk-toggleable__label sk-toggleable__label-arrow\">XGBClassifier</label><div class=\"sk-toggleable__content\"><pre>XGBClassifier(base_score=None, booster=None, callbacks=None,\n",
       "              colsample_bylevel=None, colsample_bynode=None,\n",
       "              colsample_bytree=None, early_stopping_rounds=None,\n",
       "              enable_categorical=False, eval_metric=None, feature_types=None,\n",
       "              gamma=None, gpu_id=None, grow_policy=None, importance_type=None,\n",
       "              interaction_constraints=None, learning_rate=0.1, max_bin=None,\n",
       "              max_cat_threshold=None, max_cat_to_onehot=None,\n",
       "              max_delta_step=None, max_depth=7, max_leaves=None,\n",
       "              min_child_weight=None, missing=nan, monotone_constraints=None,\n",
       "              n_estimators=300, n_jobs=None, num_parallel_tree=None,\n",
       "              predictor=None, random_state=None, ...)</pre></div></div></div></div></div>"
      ],
      "text/plain": [
       "XGBClassifier(base_score=None, booster=None, callbacks=None,\n",
       "              colsample_bylevel=None, colsample_bynode=None,\n",
       "              colsample_bytree=None, early_stopping_rounds=None,\n",
       "              enable_categorical=False, eval_metric=None, feature_types=None,\n",
       "              gamma=None, gpu_id=None, grow_policy=None, importance_type=None,\n",
       "              interaction_constraints=None, learning_rate=0.1, max_bin=None,\n",
       "              max_cat_threshold=None, max_cat_to_onehot=None,\n",
       "              max_delta_step=None, max_depth=7, max_leaves=None,\n",
       "              min_child_weight=None, missing=nan, monotone_constraints=None,\n",
       "              n_estimators=300, n_jobs=None, num_parallel_tree=None,\n",
       "              predictor=None, random_state=None, ...)"
      ]
     },
     "execution_count": 16,
     "metadata": {},
     "output_type": "execute_result"
    }
   ],
   "source": [
    "# 최적의 하이퍼 파라미터 찾기\n",
    "from sklearn.model_selection import GridSearchCV\n",
    "\n",
    "# XGBoost 모델 객체 생성\n",
    "xgb_model = XGBClassifier()\n",
    "\n",
    "# 탐색할 하이퍼파라미터 그리드 설정\n",
    "param_grid = {\n",
    "    'learning_rate': [0.1, 0.01, 0.001],\n",
    "    'max_depth': [3, 5, 7],\n",
    "    'n_estimators': [100, 200, 300]}\n",
    "\n",
    "# GridSearchCV 객체 생성\n",
    "grid_search = GridSearchCV(estimator=xgb_model, param_grid=param_grid, cv=5, scoring='accuracy')\n",
    "\n",
    "# 그리드 서치 수행\n",
    "grid_search.fit(X_train, y_train)\n",
    "\n",
    "# 최적의 하이퍼파라미터 및 최고 성능 출력\n",
    "print(\"Best parameters: \", grid_search.best_params_)\n",
    "print(\"Best accuracy: \", grid_search.best_score_)\n",
    "\n",
    "# 최적의 하이퍼파라미터를 사용하여 최종 모델 훈련\n",
    "best_xgb_model = grid_search.best_estimator_\n",
    "best_xgb_model.fit(X_train, y_train)"
   ]
  },
  {
   "cell_type": "code",
   "execution_count": 17,
   "id": "07b873b3",
   "metadata": {},
   "outputs": [
    {
     "name": "stdout",
     "output_type": "stream",
     "text": [
      "accuracy 0.9989057239057239\n",
      "precision 0.998746613835766\n",
      "recall 0.9991505885208106\n",
      "f1 0.9989485603364607\n",
      "\n",
      "\n",
      "              precision    recall  f1-score   support\n",
      "\n",
      "           0       1.00      1.00      1.00     22797\n",
      "           1       1.00      1.00      1.00     24723\n",
      "\n",
      "    accuracy                           1.00     47520\n",
      "   macro avg       1.00      1.00      1.00     47520\n",
      "weighted avg       1.00      1.00      1.00     47520\n",
      "\n",
      "\n",
      "\n"
     ]
    },
    {
     "data": {
      "image/png": "[encoded data removed]",
      "text/plain": [
       "<Figure size 640x480 with 2 Axes>"
      ]
     },
     "metadata": {},
     "output_type": "display_data"
    },
    {
     "name": "stdout",
     "output_type": "stream",
     "text": [
      "TN, FP, FN, TP: 22766 31 21 24702\n"
     ]
    }
   ],
   "source": [
    "# 최적의 파라미터 적용\n",
    "xgb_clf = XGBClassifier(learning_rate=0.1, max_depth=7, n_estimators=300, objective='reg:squarederror')\n",
    "xgb_clf.fit(np.array(X_train), np.array(y_train))\n",
    "xgb_pred = xgb_clf.predict(np.array(X_test))\n",
    "\n",
    "print('accuracy', accuracy_score(y_test, xgb_pred))\n",
    "print('precision', precision_score(y_test, xgb_pred))\n",
    "print('recall', recall_score(y_test, xgb_pred))\n",
    "print('f1', f1_score(y_test, xgb_pred))\n",
    "      \n",
    "print(\"\\n\")\n",
    "print(classification_report(y_test, xgb_pred))\n",
    "print(\"\\n\")\n",
    "\n",
    "## 혼동행렬\n",
    "sns.heatmap(confusion_matrix(y_test, xgb_pred), annot=True, fmt=\".0f\", cmap='YlGn')\n",
    "plt.xlabel('Predicted Values', size = 15)\n",
    "plt.ylabel('Actual Values', size = 15)\n",
    "plt.title('Confusion_matrix', size = 20)\n",
    "plt.show()\n",
    "\n",
    "tn, fp, fn, tp = confusion_matrix(y_test, xgb_pred).ravel()\n",
    "print(\"TN, FP, FN, TP:\",tn,fp,fn,tp)"
   ]
  },
  {
   "cell_type": "markdown",
   "id": "870caeb8",
   "metadata": {},
   "source": [
    "## 종속변수 = STOP(ON/OFF) 모델"
   ]
  },
  {
   "cell_type": "code",
   "execution_count": 29,
   "id": "c00e456a",
   "metadata": {},
   "outputs": [],
   "source": [
    "## 데이터셋을 훈련용과 테스트용으로 분리\n",
    "X_train, X_test, y_train, y_test = train_test_split(X, Y_stop, test_size=0.3,\n",
    "                                                    shuffle=True, random_state=1004)"
   ]
  },
  {
   "cell_type": "markdown",
   "id": "cccc4c6e",
   "metadata": {},
   "source": [
    "### 로지스틱 회귀"
   ]
  },
  {
   "cell_type": "code",
   "execution_count": 30,
   "id": "70fb85b4",
   "metadata": {},
   "outputs": [
    {
     "name": "stdout",
     "output_type": "stream",
     "text": [
      "accuracy 0.629503367003367\n",
      "precision 0.6268588632424049\n",
      "recall 0.33702849855299943\n",
      "f1 0.4383692739568712\n",
      "\n",
      "\n",
      "              precision    recall  f1-score   support\n",
      "\n",
      "           0       0.63      0.85      0.72     27133\n",
      "           1       0.63      0.34      0.44     20387\n",
      "\n",
      "    accuracy                           0.63     47520\n",
      "   macro avg       0.63      0.59      0.58     47520\n",
      "weighted avg       0.63      0.63      0.60     47520\n",
      "\n",
      "\n",
      "\n"
     ]
    },
    {
     "data": {
      "image/png": "[encoded data removed]",
      "text/plain": [
       "<Figure size 640x480 with 2 Axes>"
      ]
     },
     "metadata": {},
     "output_type": "display_data"
    },
    {
     "name": "stdout",
     "output_type": "stream",
     "text": [
      "TN, FP, FN, TP: 23043 4090 13516 6871\n"
     ]
    }
   ],
   "source": [
    "lr_reg = LogisticRegression()\n",
    "lr_reg.fit(X_train, y_train)\n",
    "lr_pred = lr_reg.predict(X_test)\n",
    "confusion_matrix(y_test, lr_pred)\n",
    "\n",
    "print('accuracy', accuracy_score(y_test, lr_pred))\n",
    "print('precision', precision_score(y_test, lr_pred))\n",
    "print('recall', recall_score(y_test, lr_pred))\n",
    "print('f1', f1_score(y_test, lr_pred))\n",
    "      \n",
    "print(\"\\n\")\n",
    "print(classification_report(y_test, lr_pred))\n",
    "print(\"\\n\")\n",
    "\n",
    "## 혼동행렬\n",
    "sns.heatmap(confusion_matrix(y_test, lr_pred), annot=True, fmt=\".0f\", cmap='YlGn')\n",
    "plt.xlabel('Predicted Values', size = 15)\n",
    "plt.ylabel('Actual Values', size = 15)\n",
    "plt.title('Confusion_matrix', size = 20)\n",
    "plt.show()\n",
    "\n",
    "tn, fp, fn, tp = confusion_matrix(y_test, lr_pred).ravel()\n",
    "print(\"TN, FP, FN, TP:\", tn, fp, fn, tp)"
   ]
  },
  {
   "cell_type": "markdown",
   "id": "4890bcd4",
   "metadata": {},
   "source": [
    "### 의사결정나무 분류"
   ]
  },
  {
   "cell_type": "code",
   "execution_count": 31,
   "id": "4e8ed74f",
   "metadata": {},
   "outputs": [
    {
     "name": "stdout",
     "output_type": "stream",
     "text": [
      "accuracy 0.9896043771043771\n",
      "precision 0.9879801795613992\n",
      "recall 0.9877863344288027\n",
      "f1 0.9878832474858965\n",
      "\n",
      "\n",
      "              precision    recall  f1-score   support\n",
      "\n",
      "           0       0.99      0.99      0.99     27133\n",
      "           1       0.99      0.99      0.99     20387\n",
      "\n",
      "    accuracy                           0.99     47520\n",
      "   macro avg       0.99      0.99      0.99     47520\n",
      "weighted avg       0.99      0.99      0.99     47520\n",
      "\n",
      "\n",
      "\n"
     ]
    },
    {
     "data": {
      "image/png": "[encoded data removed]",
      "text/plain": [
       "<Figure size 640x480 with 2 Axes>"
      ]
     },
     "metadata": {},
     "output_type": "display_data"
    },
    {
     "name": "stdout",
     "output_type": "stream",
     "text": [
      "TN, FP, FN, TP: 26888 245 249 20138\n"
     ]
    }
   ],
   "source": [
    "dt_clf = DecisionTreeClassifier(criterion='gini')\n",
    "dt_clf.fit(X_train, y_train)\n",
    "dt_pred = dt_clf.predict(X_test)\n",
    "\n",
    "print('accuracy', accuracy_score(y_test, dt_pred))\n",
    "print('precision', precision_score(y_test, dt_pred))\n",
    "print('recall', recall_score(y_test, dt_pred))\n",
    "print('f1', f1_score(y_test, dt_pred))\n",
    "      \n",
    "print(\"\\n\")\n",
    "print(classification_report(y_test, dt_pred))\n",
    "print(\"\\n\")\n",
    "\n",
    "## 혼동행렬\n",
    "sns.heatmap(confusion_matrix(y_test, dt_pred), annot=True, fmt=\".0f\", cmap='YlGn')\n",
    "plt.xlabel('Predicted Values', size = 15)\n",
    "plt.ylabel('Actual Values', size = 15)\n",
    "plt.title('Confusion_matrix', size = 20)\n",
    "plt.show()\n",
    "\n",
    "tn, fp, fn, tp = confusion_matrix(y_test, dt_pred).ravel()\n",
    "print(\"TN, FP, FN, TP:\", tn, fp, fn, tp)"
   ]
  },
  {
   "cell_type": "markdown",
   "id": "0771710e",
   "metadata": {},
   "source": [
    "### 랜덤포레스트 분류"
   ]
  },
  {
   "cell_type": "code",
   "execution_count": 32,
   "id": "b7e10ce7",
   "metadata": {},
   "outputs": [
    {
     "name": "stdout",
     "output_type": "stream",
     "text": [
      "accuracy 0.9949915824915825\n",
      "precision 0.993002202104233\n",
      "recall 0.9953401677539608\n",
      "f1 0.994169810396355\n",
      "\n",
      "\n",
      "              precision    recall  f1-score   support\n",
      "\n",
      "           0       1.00      0.99      1.00     27133\n",
      "           1       0.99      1.00      0.99     20387\n",
      "\n",
      "    accuracy                           0.99     47520\n",
      "   macro avg       0.99      1.00      0.99     47520\n",
      "weighted avg       0.99      0.99      0.99     47520\n",
      "\n",
      "\n",
      "\n"
     ]
    },
    {
     "data": {
      "image/png": "[encoded data removed]",
      "text/plain": [
       "<Figure size 640x480 with 2 Axes>"
      ]
     },
     "metadata": {},
     "output_type": "display_data"
    },
    {
     "name": "stdout",
     "output_type": "stream",
     "text": [
      "TN, FP, FN, TP: 26990 143 95 20292\n"
     ]
    }
   ],
   "source": [
    "rf_clf = RandomForestClassifier(n_estimators=100, criterion='gini')\n",
    "rf_clf.fit(X_train, y_train)\n",
    "rf_pred = rf_clf.predict(X_test)\n",
    "\n",
    "print('accuracy', accuracy_score(y_test, rf_pred))\n",
    "print('precision', precision_score(y_test, rf_pred))\n",
    "print('recall', recall_score(y_test, rf_pred))\n",
    "print('f1', f1_score(y_test, rf_pred))\n",
    "      \n",
    "print(\"\\n\")\n",
    "print(classification_report(y_test, rf_pred))\n",
    "print(\"\\n\")\n",
    "\n",
    "## 혼동행렬\n",
    "sns.heatmap(confusion_matrix(y_test, rf_pred), annot=True, fmt=\".0f\", cmap='YlGn')\n",
    "plt.xlabel('Predicted Values', size = 15)\n",
    "plt.ylabel('Actual Values', size = 15)\n",
    "plt.title('Confusion_matrix', size = 20)\n",
    "plt.show()\n",
    "\n",
    "tn, fp, fn, tp = confusion_matrix(y_test, rf_pred).ravel()\n",
    "print(\"TN, FP, FN, TP:\", tn, fp, fn, tp)"
   ]
  },
  {
   "cell_type": "markdown",
   "id": "4f901730",
   "metadata": {},
   "source": [
    "### XGBoost"
   ]
  },
  {
   "cell_type": "code",
   "execution_count": 33,
   "id": "53b0640f",
   "metadata": {},
   "outputs": [
    {
     "name": "stdout",
     "output_type": "stream",
     "text": [
      "accuracy 0.9943392255892256\n",
      "precision 0.9932333039129155\n",
      "recall 0.9935743365870408\n",
      "f1 0.9934037909810941\n",
      "\n",
      "\n",
      "              precision    recall  f1-score   support\n",
      "\n",
      "           0       1.00      0.99      1.00     27133\n",
      "           1       0.99      0.99      0.99     20387\n",
      "\n",
      "    accuracy                           0.99     47520\n",
      "   macro avg       0.99      0.99      0.99     47520\n",
      "weighted avg       0.99      0.99      0.99     47520\n",
      "\n",
      "\n",
      "\n"
     ]
    },
    {
     "data": {
      "image/png": "[encoded data removed]",
      "text/plain": [
       "<Figure size 640x480 with 2 Axes>"
      ]
     },
     "metadata": {},
     "output_type": "display_data"
    },
    {
     "name": "stdout",
     "output_type": "stream",
     "text": [
      "TN, FP, FN, TP: 26995 138 131 20256\n"
     ]
    }
   ],
   "source": [
    "xgb_clf = XGBClassifier(learning_rate=0.1, max_depth=7, n_estimators=300, objective='reg:squarederror')\n",
    "xgb_clf.fit(np.array(X_train), np.array(y_train))\n",
    "xgb_pred = xgb_clf.predict(np.array(X_test))\n",
    "\n",
    "print('accuracy', accuracy_score(y_test, xgb_pred))\n",
    "print('precision', precision_score(y_test, xgb_pred))\n",
    "print('recall', recall_score(y_test, xgb_pred))\n",
    "print('f1', f1_score(y_test, xgb_pred))\n",
    "      \n",
    "print(\"\\n\")\n",
    "print(classification_report(y_test, xgb_pred))\n",
    "print(\"\\n\")\n",
    "\n",
    "## 혼동행렬\n",
    "sns.heatmap(confusion_matrix(y_test, xgb_pred), annot=True, fmt=\".0f\", cmap='YlGn')\n",
    "plt.xlabel('Predicted Values', size = 15)\n",
    "plt.ylabel('Actual Values', size = 15)\n",
    "plt.title('Confusion_matrix', size = 20)\n",
    "plt.show()\n",
    "\n",
    "tn, fp, fn, tp = confusion_matrix(y_test, xgb_pred).ravel()\n",
    "print(\"TN, FP, FN, TP:\", tn, fp, fn, tp)"
   ]
  },
  {
   "cell_type": "markdown",
   "id": "ff745e5a",
   "metadata": {},
   "source": [
    "## 모델 저장 및 불러오기"
   ]
  },
  {
   "cell_type": "code",
   "execution_count": 34,
   "id": "2193e0a3",
   "metadata": {},
   "outputs": [
    {
     "data": {
      "text/plain": [
       "['./XGBoost.pkl']"
      ]
     },
     "execution_count": 34,
     "metadata": {},
     "output_type": "execute_result"
    }
   ],
   "source": [
    "## 모델 저장\n",
    "joblib.dump(lr_reg,'./Logistic.pkl')\n",
    "joblib.dump(dt_clf,'./DecisionTree.pkl')\n",
    "joblib.dump(rf_clf,'./RandomForest.pkl')\n",
    "joblib.dump(xgb_clf,'./XGBoost.pkl')"
   ]
  },
  {
   "cell_type": "code",
   "execution_count": 35,
   "id": "ac418078",
   "metadata": {},
   "outputs": [
    {
     "data": {
      "text/html": [
       "<style>#sk-container-id-6 {color: black;background-color: white;}#sk-container-id-6 pre{padding: 0;}#sk-container-id-6 div.sk-toggleable {background-color: white;}#sk-container-id-6 label.sk-toggleable__label {cursor: pointer;display: block;width: 100%;margin-bottom: 0;padding: 0.3em;box-sizing: border-box;text-align: center;}#sk-container-id-6 label.sk-toggleable__label-arrow:before {content: \"▸\";float: left;margin-right: 0.25em;color: #696969;}#sk-container-id-6 label.sk-toggleable__label-arrow:hover:before {color: black;}#sk-container-id-6 div.sk-estimator:hover label.sk-toggleable__label-arrow:before {color: black;}#sk-container-id-6 div.sk-toggleable__content {max-height: 0;max-width: 0;overflow: hidden;text-align: left;background-color: #f0f8ff;}#sk-container-id-6 div.sk-toggleable__content pre {margin: 0.2em;color: black;border-radius: 0.25em;background-color: #f0f8ff;}#sk-container-id-6 input.sk-toggleable__control:checked~div.sk-toggleable__content {max-height: 200px;max-width: 100%;overflow: auto;}#sk-container-id-6 input.sk-toggleable__control:checked~label.sk-toggleable__label-arrow:before {content: \"▾\";}#sk-container-id-6 div.sk-estimator input.sk-toggleable__control:checked~label.sk-toggleable__label {background-color: #d4ebff;}#sk-container-id-6 div.sk-label input.sk-toggleable__control:checked~label.sk-toggleable__label {background-color: #d4ebff;}#sk-container-id-6 input.sk-hidden--visually {border: 0;clip: rect(1px 1px 1px 1px);clip: rect(1px, 1px, 1px, 1px);height: 1px;margin: -1px;overflow: hidden;padding: 0;position: absolute;width: 1px;}#sk-container-id-6 div.sk-estimator {font-family: monospace;background-color: #f0f8ff;border: 1px dotted black;border-radius: 0.25em;box-sizing: border-box;margin-bottom: 0.5em;}#sk-container-id-6 div.sk-estimator:hover {background-color: #d4ebff;}#sk-container-id-6 div.sk-parallel-item::after {content: \"\";width: 100%;border-bottom: 1px solid gray;flex-grow: 1;}#sk-container-id-6 div.sk-label:hover label.sk-toggleable__label {background-color: #d4ebff;}#sk-container-id-6 div.sk-serial::before {content: \"\";position: absolute;border-left: 1px solid gray;box-sizing: border-box;top: 0;bottom: 0;left: 50%;z-index: 0;}#sk-container-id-6 div.sk-serial {display: flex;flex-direction: column;align-items: center;background-color: white;padding-right: 0.2em;padding-left: 0.2em;position: relative;}#sk-container-id-6 div.sk-item {position: relative;z-index: 1;}#sk-container-id-6 div.sk-parallel {display: flex;align-items: stretch;justify-content: center;background-color: white;position: relative;}#sk-container-id-6 div.sk-item::before, #sk-container-id-6 div.sk-parallel-item::before {content: \"\";position: absolute;border-left: 1px solid gray;box-sizing: border-box;top: 0;bottom: 0;left: 50%;z-index: -1;}#sk-container-id-6 div.sk-parallel-item {display: flex;flex-direction: column;z-index: 1;position: relative;background-color: white;}#sk-container-id-6 div.sk-parallel-item:first-child::after {align-self: flex-end;width: 50%;}#sk-container-id-6 div.sk-parallel-item:last-child::after {align-self: flex-start;width: 50%;}#sk-container-id-6 div.sk-parallel-item:only-child::after {width: 0;}#sk-container-id-6 div.sk-dashed-wrapped {border: 1px dashed gray;margin: 0 0.4em 0.5em 0.4em;box-sizing: border-box;padding-bottom: 0.4em;background-color: white;}#sk-container-id-6 div.sk-label label {font-family: monospace;font-weight: bold;display: inline-block;line-height: 1.2em;}#sk-container-id-6 div.sk-label-container {text-align: center;}#sk-container-id-6 div.sk-container {/* jupyter's `normalize.less` sets `[hidden] { display: none; }` but bootstrap.min.css set `[hidden] { display: none !important; }` so we also need the `!important` here to be able to override the default hidden behavior on the sphinx rendered scikit-learn.org. See: https://github.com/scikit-learn/scikit-learn/issues/21755 */display: inline-block !important;position: relative;}#sk-container-id-6 div.sk-text-repr-fallback {display: none;}</style><div id=\"sk-container-id-6\" class=\"sk-top-container\"><div class=\"sk-text-repr-fallback\"><pre>LogisticRegression()</pre><b>In a Jupyter environment, please rerun this cell to show the HTML representation or trust the notebook. <br />On GitHub, the HTML representation is unable to render, please try loading this page with nbviewer.org.</b></div><div class=\"sk-container\" hidden><div class=\"sk-item\"><div class=\"sk-estimator sk-toggleable\"><input class=\"sk-toggleable__control sk-hidden--visually\" id=\"sk-estimator-id-6\" type=\"checkbox\" checked><label for=\"sk-estimator-id-6\" class=\"sk-toggleable__label sk-toggleable__label-arrow\">LogisticRegression</label><div class=\"sk-toggleable__content\"><pre>LogisticRegression()</pre></div></div></div></div></div>"
      ],
      "text/plain": [
       "LogisticRegression()"
      ]
     },
     "execution_count": 35,
     "metadata": {},
     "output_type": "execute_result"
    }
   ],
   "source": [
    "## 모델 불러오기\n",
    "load_model_lr = joblib.load('./Logistic.pkl')\n",
    "load_model_lr"
   ]
  },
  {
   "cell_type": "code",
   "execution_count": 36,
   "id": "a73b4715",
   "metadata": {},
   "outputs": [
    {
     "data": {
      "text/html": [
       "<style>#sk-container-id-7 {color: black;background-color: white;}#sk-container-id-7 pre{padding: 0;}#sk-container-id-7 div.sk-toggleable {background-color: white;}#sk-container-id-7 label.sk-toggleable__label {cursor: pointer;display: block;width: 100%;margin-bottom: 0;padding: 0.3em;box-sizing: border-box;text-align: center;}#sk-container-id-7 label.sk-toggleable__label-arrow:before {content: \"▸\";float: left;margin-right: 0.25em;color: #696969;}#sk-container-id-7 label.sk-toggleable__label-arrow:hover:before {color: black;}#sk-container-id-7 div.sk-estimator:hover label.sk-toggleable__label-arrow:before {color: black;}#sk-container-id-7 div.sk-toggleable__content {max-height: 0;max-width: 0;overflow: hidden;text-align: left;background-color: #f0f8ff;}#sk-container-id-7 div.sk-toggleable__content pre {margin: 0.2em;color: black;border-radius: 0.25em;background-color: #f0f8ff;}#sk-container-id-7 input.sk-toggleable__control:checked~div.sk-toggleable__content {max-height: 200px;max-width: 100%;overflow: auto;}#sk-container-id-7 input.sk-toggleable__control:checked~label.sk-toggleable__label-arrow:before {content: \"▾\";}#sk-container-id-7 div.sk-estimator input.sk-toggleable__control:checked~label.sk-toggleable__label {background-color: #d4ebff;}#sk-container-id-7 div.sk-label input.sk-toggleable__control:checked~label.sk-toggleable__label {background-color: #d4ebff;}#sk-container-id-7 input.sk-hidden--visually {border: 0;clip: rect(1px 1px 1px 1px);clip: rect(1px, 1px, 1px, 1px);height: 1px;margin: -1px;overflow: hidden;padding: 0;position: absolute;width: 1px;}#sk-container-id-7 div.sk-estimator {font-family: monospace;background-color: #f0f8ff;border: 1px dotted black;border-radius: 0.25em;box-sizing: border-box;margin-bottom: 0.5em;}#sk-container-id-7 div.sk-estimator:hover {background-color: #d4ebff;}#sk-container-id-7 div.sk-parallel-item::after {content: \"\";width: 100%;border-bottom: 1px solid gray;flex-grow: 1;}#sk-container-id-7 div.sk-label:hover label.sk-toggleable__label {background-color: #d4ebff;}#sk-container-id-7 div.sk-serial::before {content: \"\";position: absolute;border-left: 1px solid gray;box-sizing: border-box;top: 0;bottom: 0;left: 50%;z-index: 0;}#sk-container-id-7 div.sk-serial {display: flex;flex-direction: column;align-items: center;background-color: white;padding-right: 0.2em;padding-left: 0.2em;position: relative;}#sk-container-id-7 div.sk-item {position: relative;z-index: 1;}#sk-container-id-7 div.sk-parallel {display: flex;align-items: stretch;justify-content: center;background-color: white;position: relative;}#sk-container-id-7 div.sk-item::before, #sk-container-id-7 div.sk-parallel-item::before {content: \"\";position: absolute;border-left: 1px solid gray;box-sizing: border-box;top: 0;bottom: 0;left: 50%;z-index: -1;}#sk-container-id-7 div.sk-parallel-item {display: flex;flex-direction: column;z-index: 1;position: relative;background-color: white;}#sk-container-id-7 div.sk-parallel-item:first-child::after {align-self: flex-end;width: 50%;}#sk-container-id-7 div.sk-parallel-item:last-child::after {align-self: flex-start;width: 50%;}#sk-container-id-7 div.sk-parallel-item:only-child::after {width: 0;}#sk-container-id-7 div.sk-dashed-wrapped {border: 1px dashed gray;margin: 0 0.4em 0.5em 0.4em;box-sizing: border-box;padding-bottom: 0.4em;background-color: white;}#sk-container-id-7 div.sk-label label {font-family: monospace;font-weight: bold;display: inline-block;line-height: 1.2em;}#sk-container-id-7 div.sk-label-container {text-align: center;}#sk-container-id-7 div.sk-container {/* jupyter's `normalize.less` sets `[hidden] { display: none; }` but bootstrap.min.css set `[hidden] { display: none !important; }` so we also need the `!important` here to be able to override the default hidden behavior on the sphinx rendered scikit-learn.org. See: https://github.com/scikit-learn/scikit-learn/issues/21755 */display: inline-block !important;position: relative;}#sk-container-id-7 div.sk-text-repr-fallback {display: none;}</style><div id=\"sk-container-id-7\" class=\"sk-top-container\"><div class=\"sk-text-repr-fallback\"><pre>DecisionTreeClassifier()</pre><b>In a Jupyter environment, please rerun this cell to show the HTML representation or trust the notebook. <br />On GitHub, the HTML representation is unable to render, please try loading this page with nbviewer.org.</b></div><div class=\"sk-container\" hidden><div class=\"sk-item\"><div class=\"sk-estimator sk-toggleable\"><input class=\"sk-toggleable__control sk-hidden--visually\" id=\"sk-estimator-id-7\" type=\"checkbox\" checked><label for=\"sk-estimator-id-7\" class=\"sk-toggleable__label sk-toggleable__label-arrow\">DecisionTreeClassifier</label><div class=\"sk-toggleable__content\"><pre>DecisionTreeClassifier()</pre></div></div></div></div></div>"
      ],
      "text/plain": [
       "DecisionTreeClassifier()"
      ]
     },
     "execution_count": 36,
     "metadata": {},
     "output_type": "execute_result"
    }
   ],
   "source": [
    "## 모델 불러오기\n",
    "load_model_dt = joblib.load('./DecisionTree.pkl')\n",
    "load_model_dt"
   ]
  },
  {
   "cell_type": "code",
   "execution_count": 37,
   "id": "b0e2b9c4",
   "metadata": {},
   "outputs": [
    {
     "data": {
      "text/html": [
       "<style>#sk-container-id-8 {color: black;background-color: white;}#sk-container-id-8 pre{padding: 0;}#sk-container-id-8 div.sk-toggleable {background-color: white;}#sk-container-id-8 label.sk-toggleable__label {cursor: pointer;display: block;width: 100%;margin-bottom: 0;padding: 0.3em;box-sizing: border-box;text-align: center;}#sk-container-id-8 label.sk-toggleable__label-arrow:before {content: \"▸\";float: left;margin-right: 0.25em;color: #696969;}#sk-container-id-8 label.sk-toggleable__label-arrow:hover:before {color: black;}#sk-container-id-8 div.sk-estimator:hover label.sk-toggleable__label-arrow:before {color: black;}#sk-container-id-8 div.sk-toggleable__content {max-height: 0;max-width: 0;overflow: hidden;text-align: left;background-color: #f0f8ff;}#sk-container-id-8 div.sk-toggleable__content pre {margin: 0.2em;color: black;border-radius: 0.25em;background-color: #f0f8ff;}#sk-container-id-8 input.sk-toggleable__control:checked~div.sk-toggleable__content {max-height: 200px;max-width: 100%;overflow: auto;}#sk-container-id-8 input.sk-toggleable__control:checked~label.sk-toggleable__label-arrow:before {content: \"▾\";}#sk-container-id-8 div.sk-estimator input.sk-toggleable__control:checked~label.sk-toggleable__label {background-color: #d4ebff;}#sk-container-id-8 div.sk-label input.sk-toggleable__control:checked~label.sk-toggleable__label {background-color: #d4ebff;}#sk-container-id-8 input.sk-hidden--visually {border: 0;clip: rect(1px 1px 1px 1px);clip: rect(1px, 1px, 1px, 1px);height: 1px;margin: -1px;overflow: hidden;padding: 0;position: absolute;width: 1px;}#sk-container-id-8 div.sk-estimator {font-family: monospace;background-color: #f0f8ff;border: 1px dotted black;border-radius: 0.25em;box-sizing: border-box;margin-bottom: 0.5em;}#sk-container-id-8 div.sk-estimator:hover {background-color: #d4ebff;}#sk-container-id-8 div.sk-parallel-item::after {content: \"\";width: 100%;border-bottom: 1px solid gray;flex-grow: 1;}#sk-container-id-8 div.sk-label:hover label.sk-toggleable__label {background-color: #d4ebff;}#sk-container-id-8 div.sk-serial::before {content: \"\";position: absolute;border-left: 1px solid gray;box-sizing: border-box;top: 0;bottom: 0;left: 50%;z-index: 0;}#sk-container-id-8 div.sk-serial {display: flex;flex-direction: column;align-items: center;background-color: white;padding-right: 0.2em;padding-left: 0.2em;position: relative;}#sk-container-id-8 div.sk-item {position: relative;z-index: 1;}#sk-container-id-8 div.sk-parallel {display: flex;align-items: stretch;justify-content: center;background-color: white;position: relative;}#sk-container-id-8 div.sk-item::before, #sk-container-id-8 div.sk-parallel-item::before {content: \"\";position: absolute;border-left: 1px solid gray;box-sizing: border-box;top: 0;bottom: 0;left: 50%;z-index: -1;}#sk-container-id-8 div.sk-parallel-item {display: flex;flex-direction: column;z-index: 1;position: relative;background-color: white;}#sk-container-id-8 div.sk-parallel-item:first-child::after {align-self: flex-end;width: 50%;}#sk-container-id-8 div.sk-parallel-item:last-child::after {align-self: flex-start;width: 50%;}#sk-container-id-8 div.sk-parallel-item:only-child::after {width: 0;}#sk-container-id-8 div.sk-dashed-wrapped {border: 1px dashed gray;margin: 0 0.4em 0.5em 0.4em;box-sizing: border-box;padding-bottom: 0.4em;background-color: white;}#sk-container-id-8 div.sk-label label {font-family: monospace;font-weight: bold;display: inline-block;line-height: 1.2em;}#sk-container-id-8 div.sk-label-container {text-align: center;}#sk-container-id-8 div.sk-container {/* jupyter's `normalize.less` sets `[hidden] { display: none; }` but bootstrap.min.css set `[hidden] { display: none !important; }` so we also need the `!important` here to be able to override the default hidden behavior on the sphinx rendered scikit-learn.org. See: https://github.com/scikit-learn/scikit-learn/issues/21755 */display: inline-block !important;position: relative;}#sk-container-id-8 div.sk-text-repr-fallback {display: none;}</style><div id=\"sk-container-id-8\" class=\"sk-top-container\"><div class=\"sk-text-repr-fallback\"><pre>RandomForestClassifier()</pre><b>In a Jupyter environment, please rerun this cell to show the HTML representation or trust the notebook. <br />On GitHub, the HTML representation is unable to render, please try loading this page with nbviewer.org.</b></div><div class=\"sk-container\" hidden><div class=\"sk-item\"><div class=\"sk-estimator sk-toggleable\"><input class=\"sk-toggleable__control sk-hidden--visually\" id=\"sk-estimator-id-8\" type=\"checkbox\" checked><label for=\"sk-estimator-id-8\" class=\"sk-toggleable__label sk-toggleable__label-arrow\">RandomForestClassifier</label><div class=\"sk-toggleable__content\"><pre>RandomForestClassifier()</pre></div></div></div></div></div>"
      ],
      "text/plain": [
       "RandomForestClassifier()"
      ]
     },
     "execution_count": 37,
     "metadata": {},
     "output_type": "execute_result"
    }
   ],
   "source": [
    "## 모델 불러오기\n",
    "load_model_rf = joblib.load('./RandomForest.pkl')\n",
    "load_model_rf"
   ]
  },
  {
   "cell_type": "code",
   "execution_count": 38,
   "id": "553a81d8",
   "metadata": {},
   "outputs": [
    {
     "data": {
      "text/html": [
       "<style>#sk-container-id-9 {color: black;background-color: white;}#sk-container-id-9 pre{padding: 0;}#sk-container-id-9 div.sk-toggleable {background-color: white;}#sk-container-id-9 label.sk-toggleable__label {cursor: pointer;display: block;width: 100%;margin-bottom: 0;padding: 0.3em;box-sizing: border-box;text-align: center;}#sk-container-id-9 label.sk-toggleable__label-arrow:before {content: \"▸\";float: left;margin-right: 0.25em;color: #696969;}#sk-container-id-9 label.sk-toggleable__label-arrow:hover:before {color: black;}#sk-container-id-9 div.sk-estimator:hover label.sk-toggleable__label-arrow:before {color: black;}#sk-container-id-9 div.sk-toggleable__content {max-height: 0;max-width: 0;overflow: hidden;text-align: left;background-color: #f0f8ff;}#sk-container-id-9 div.sk-toggleable__content pre {margin: 0.2em;color: black;border-radius: 0.25em;background-color: #f0f8ff;}#sk-container-id-9 input.sk-toggleable__control:checked~div.sk-toggleable__content {max-height: 200px;max-width: 100%;overflow: auto;}#sk-container-id-9 input.sk-toggleable__control:checked~label.sk-toggleable__label-arrow:before {content: \"▾\";}#sk-container-id-9 div.sk-estimator input.sk-toggleable__control:checked~label.sk-toggleable__label {background-color: #d4ebff;}#sk-container-id-9 div.sk-label input.sk-toggleable__control:checked~label.sk-toggleable__label {background-color: #d4ebff;}#sk-container-id-9 input.sk-hidden--visually {border: 0;clip: rect(1px 1px 1px 1px);clip: rect(1px, 1px, 1px, 1px);height: 1px;margin: -1px;overflow: hidden;padding: 0;position: absolute;width: 1px;}#sk-container-id-9 div.sk-estimator {font-family: monospace;background-color: #f0f8ff;border: 1px dotted black;border-radius: 0.25em;box-sizing: border-box;margin-bottom: 0.5em;}#sk-container-id-9 div.sk-estimator:hover {background-color: #d4ebff;}#sk-container-id-9 div.sk-parallel-item::after {content: \"\";width: 100%;border-bottom: 1px solid gray;flex-grow: 1;}#sk-container-id-9 div.sk-label:hover label.sk-toggleable__label {background-color: #d4ebff;}#sk-container-id-9 div.sk-serial::before {content: \"\";position: absolute;border-left: 1px solid gray;box-sizing: border-box;top: 0;bottom: 0;left: 50%;z-index: 0;}#sk-container-id-9 div.sk-serial {display: flex;flex-direction: column;align-items: center;background-color: white;padding-right: 0.2em;padding-left: 0.2em;position: relative;}#sk-container-id-9 div.sk-item {position: relative;z-index: 1;}#sk-container-id-9 div.sk-parallel {display: flex;align-items: stretch;justify-content: center;background-color: white;position: relative;}#sk-container-id-9 div.sk-item::before, #sk-container-id-9 div.sk-parallel-item::before {content: \"\";position: absolute;border-left: 1px solid gray;box-sizing: border-box;top: 0;bottom: 0;left: 50%;z-index: -1;}#sk-container-id-9 div.sk-parallel-item {display: flex;flex-direction: column;z-index: 1;position: relative;background-color: white;}#sk-container-id-9 div.sk-parallel-item:first-child::after {align-self: flex-end;width: 50%;}#sk-container-id-9 div.sk-parallel-item:last-child::after {align-self: flex-start;width: 50%;}#sk-container-id-9 div.sk-parallel-item:only-child::after {width: 0;}#sk-container-id-9 div.sk-dashed-wrapped {border: 1px dashed gray;margin: 0 0.4em 0.5em 0.4em;box-sizing: border-box;padding-bottom: 0.4em;background-color: white;}#sk-container-id-9 div.sk-label label {font-family: monospace;font-weight: bold;display: inline-block;line-height: 1.2em;}#sk-container-id-9 div.sk-label-container {text-align: center;}#sk-container-id-9 div.sk-container {/* jupyter's `normalize.less` sets `[hidden] { display: none; }` but bootstrap.min.css set `[hidden] { display: none !important; }` so we also need the `!important` here to be able to override the default hidden behavior on the sphinx rendered scikit-learn.org. See: https://github.com/scikit-learn/scikit-learn/issues/21755 */display: inline-block !important;position: relative;}#sk-container-id-9 div.sk-text-repr-fallback {display: none;}</style><div id=\"sk-container-id-9\" class=\"sk-top-container\"><div class=\"sk-text-repr-fallback\"><pre>XGBClassifier(base_score=None, booster=None, callbacks=None,\n",
       "              colsample_bylevel=None, colsample_bynode=None,\n",
       "              colsample_bytree=None, early_stopping_rounds=None,\n",
       "              enable_categorical=False, eval_metric=None, feature_types=None,\n",
       "              gamma=None, gpu_id=None, grow_policy=None, importance_type=None,\n",
       "              interaction_constraints=None, learning_rate=0.1, max_bin=None,\n",
       "              max_cat_threshold=None, max_cat_to_onehot=None,\n",
       "              max_delta_step=None, max_depth=7, max_leaves=None,\n",
       "              min_child_weight=None, missing=nan, monotone_constraints=None,\n",
       "              n_estimators=300, n_jobs=None, num_parallel_tree=None,\n",
       "              objective=&#x27;reg:squarederror&#x27;, predictor=None, ...)</pre><b>In a Jupyter environment, please rerun this cell to show the HTML representation or trust the notebook. <br />On GitHub, the HTML representation is unable to render, please try loading this page with nbviewer.org.</b></div><div class=\"sk-container\" hidden><div class=\"sk-item\"><div class=\"sk-estimator sk-toggleable\"><input class=\"sk-toggleable__control sk-hidden--visually\" id=\"sk-estimator-id-9\" type=\"checkbox\" checked><label for=\"sk-estimator-id-9\" class=\"sk-toggleable__label sk-toggleable__label-arrow\">XGBClassifier</label><div class=\"sk-toggleable__content\"><pre>XGBClassifier(base_score=None, booster=None, callbacks=None,\n",
       "              colsample_bylevel=None, colsample_bynode=None,\n",
       "              colsample_bytree=None, early_stopping_rounds=None,\n",
       "              enable_categorical=False, eval_metric=None, feature_types=None,\n",
       "              gamma=None, gpu_id=None, grow_policy=None, importance_type=None,\n",
       "              interaction_constraints=None, learning_rate=0.1, max_bin=None,\n",
       "              max_cat_threshold=None, max_cat_to_onehot=None,\n",
       "              max_delta_step=None, max_depth=7, max_leaves=None,\n",
       "              min_child_weight=None, missing=nan, monotone_constraints=None,\n",
       "              n_estimators=300, n_jobs=None, num_parallel_tree=None,\n",
       "              objective=&#x27;reg:squarederror&#x27;, predictor=None, ...)</pre></div></div></div></div></div>"
      ],
      "text/plain": [
       "XGBClassifier(base_score=None, booster=None, callbacks=None,\n",
       "              colsample_bylevel=None, colsample_bynode=None,\n",
       "              colsample_bytree=None, early_stopping_rounds=None,\n",
       "              enable_categorical=False, eval_metric=None, feature_types=None,\n",
       "              gamma=None, gpu_id=None, grow_policy=None, importance_type=None,\n",
       "              interaction_constraints=None, learning_rate=0.1, max_bin=None,\n",
       "              max_cat_threshold=None, max_cat_to_onehot=None,\n",
       "              max_delta_step=None, max_depth=7, max_leaves=None,\n",
       "              min_child_weight=None, missing=nan, monotone_constraints=None,\n",
       "              n_estimators=300, n_jobs=None, num_parallel_tree=None,\n",
       "              objective='reg:squarederror', predictor=None, ...)"
      ]
     },
     "execution_count": 38,
     "metadata": {},
     "output_type": "execute_result"
    }
   ],
   "source": [
    "## 모델 불러오기\n",
    "load_model_xgb = joblib.load('./XGBoost.pkl')\n",
    "load_model_xgb"
   ]
  },
  {
   "cell_type": "markdown",
   "id": "08e7db02",
   "metadata": {},
   "source": [
    "# 결과"
   ]
  },
  {
   "cell_type": "code",
   "execution_count": null,
   "id": "252abe88",
   "metadata": {},
   "outputs": [],
   "source": []
  }
 ],
 "metadata": {
  "kernelspec": {
   "display_name": "Python 3 (ipykernel)",
   "language": "python",
   "name": "python3"
  },
  "language_info": {
   "codemirror_mode": {
    "name": "ipython",
    "version": 3
   },
   "file_extension": ".py",
   "mimetype": "text/x-python",
   "name": "python",
   "nbconvert_exporter": "python",
   "pygments_lexer": "ipython3",
   "version": "3.11.5"
  },
  "toc": {
   "base_numbering": 1,
   "nav_menu": {},
   "number_sections": true,
   "sideBar": true,
   "skip_h1_title": false,
   "title_cell": "Table of Contents",
   "title_sidebar": "Contents",
   "toc_cell": false,
   "toc_position": {
    "height": "calc(100% - 180px)",
    "left": "10px",
    "top": "150px",
    "width": "167.594px"
   },
   "toc_section_display": true,
   "toc_window_display": true
  }
 },
 "nbformat": 4,
 "nbformat_minor": 5
}
